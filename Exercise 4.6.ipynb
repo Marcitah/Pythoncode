{
 "cells": [
  {
   "cell_type": "markdown",
   "id": "0b214742-1316-4f08-ade2-e1d51d7c84f6",
   "metadata": {},
   "source": [
    "# Exercise 4.6- Part 2"
   ]
  },
  {
   "cell_type": "code",
   "execution_count": 39,
   "id": "029ee4c6-3f30-449d-a591-220a0b38139c",
   "metadata": {},
   "outputs": [],
   "source": [
    "# Section 1: Import Libraries\n",
    "import pandas as pd  # For data manipulation\n",
    "import numpy as np  # For numerical operations\n",
    "import os  # For operating system interactions\n"
   ]
  },
  {
   "cell_type": "code",
   "execution_count": 41,
   "id": "7eee7bf3-fd8e-4b76-825c-4159b024de66",
   "metadata": {},
   "outputs": [],
   "source": [
    "# Define the path to the new dataset \n",
    "project_folder_path = r\"C:\\Users\\marci\\15-07-2024Instacart Basket Analysis\\02 Data\""
   ]
  },
  {
   "cell_type": "code",
   "execution_count": 43,
   "id": "f32bad90-8171-4a23-8cc2-1b07f9fa78e1",
   "metadata": {},
   "outputs": [],
   "source": [
    "# Import orders_products_combined.pkl into a DataFrame\n",
    "df_orders_products_combined = pd.read_pickle(r'C:\\Users\\marci\\15-07-2024Instacart Basket Analysis\\02 Data\\Prepared Data\\orders_products_combined.pkl')\n",
    "\n"
   ]
  },
  {
   "cell_type": "code",
   "execution_count": 45,
   "id": "f99b7095-6684-4a2b-860a-676860a616d0",
   "metadata": {},
   "outputs": [
    {
     "name": "stdout",
     "output_type": "stream",
     "text": [
      "Missing values in combined DataFrame:\n",
      "Unnamed: 0                0\n",
      "order_id                  0\n",
      "user_id                   0\n",
      "order_number              0\n",
      "order_dow                 0\n",
      "order_hour_of_day         0\n",
      "days_since_prior_order    0\n",
      "product_id                0\n",
      "add_to_cart_order         0\n",
      "reordered                 0\n",
      "_merge                    0\n",
      "dtype: int64\n"
     ]
    }
   ],
   "source": [
    "#  Check for missing values in the combined DataFrame\n",
    "missing_orders_products_combined = df_orders_products_combined.isnull().sum()\n",
    "print(\"Missing values in combined DataFrame:\")\n",
    "print(missing_orders_products_combined)"
   ]
  },
  {
   "cell_type": "code",
   "execution_count": 101,
   "id": "f6a076c1-f8f3-488c-af39-fe009668bfea",
   "metadata": {},
   "outputs": [
    {
     "data": {
      "text/plain": [
       "(32434489, 11)"
      ]
     },
     "execution_count": 101,
     "metadata": {},
     "output_type": "execute_result"
    }
   ],
   "source": [
    "# Check the shape of the imported DataFrame\n",
    "\n",
    "df_orders_products_combined.shape"
   ]
  },
  {
   "cell_type": "code",
   "execution_count": 103,
   "id": "51b2ba25-97ff-4c6d-bc9c-b4902e0cee1d",
   "metadata": {},
   "outputs": [],
   "source": [
    "# Load the products DataFrame\n",
    "df_prods_imported = pd.read_csv(r\"C:\\Users\\marci\\15-07-2024Instacart Basket Analysis\\02 Data\\Prepared Data\\products_wrangled.csv\", encoding='utf-8')"
   ]
  },
  {
   "cell_type": "code",
   "execution_count": 105,
   "id": "bc63277a-9016-4afa-badf-99af2ce4e519",
   "metadata": {},
   "outputs": [
    {
     "name": "stdout",
     "output_type": "stream",
     "text": [
      "product_id       0\n",
      "product_name     0\n",
      "aisle_id         0\n",
      "department_id    0\n",
      "prices           0\n",
      "dtype: int64\n"
     ]
    }
   ],
   "source": [
    "# Fill NaN values in 'product_name' with 'Unknown'\n",
    "df_prods_imported = df_prods_imported.fillna({'product_name': 'Unknown'})\n",
    "\n",
    "# Verify the changes\n",
    "print(df_prods_imported.isnull().sum())  # Should show 0 missing values in 'product_name'"
   ]
  },
  {
   "cell_type": "code",
   "execution_count": 107,
   "id": "9beec9f5-350b-4dba-941d-4803ece09030",
   "metadata": {},
   "outputs": [
    {
     "data": {
      "text/plain": [
       "(49688, 5)"
      ]
     },
     "execution_count": 107,
     "metadata": {},
     "output_type": "execute_result"
    }
   ],
   "source": [
    "# Check the shape of the imported DataFrame\n",
    "df_prods_imported.shape"
   ]
  },
  {
   "cell_type": "code",
   "execution_count": 109,
   "id": "cb858db9-9007-4f08-9df4-1df317c2170c",
   "metadata": {},
   "outputs": [
    {
     "name": "stdout",
     "output_type": "stream",
     "text": [
      "Missing values in imported DataFrame:\n",
      "product_id       0\n",
      "product_name     0\n",
      "aisle_id         0\n",
      "department_id    0\n",
      "prices           0\n",
      "dtype: int64\n"
     ]
    }
   ],
   "source": [
    "missing_df_prods_imported = df_prods_imported.isnull().sum()\n",
    "print(\"Missing values in imported DataFrame:\")\n",
    "print(missing_df_prods_imported)"
   ]
  },
  {
   "cell_type": "code",
   "execution_count": 111,
   "id": "023581e9-1df3-4ea9-838d-7b71c3b8abc0",
   "metadata": {},
   "outputs": [],
   "source": [
    "# Rename the existing _merge column in either DataFrame (if it exists)\n",
    "if '_merge' in df_orders_products_combined.columns:\n",
    "    df_orders_products_combined = df_orders_products_combined.rename(columns={'_merge': 'existing_merge'})\n",
    "\n",
    "if '_merge' in df_wrangledproducts.columns:\n",
    "    df_wrangledproducts = df_wrangledproducts.rename(columns={'_merge': 'existing_merge'})"
   ]
  },
  {
   "cell_type": "code",
   "execution_count": 117,
   "id": "993c3208-bbda-41ab-9023-a4a77d0551f0",
   "metadata": {},
   "outputs": [
    {
     "name": "stdout",
     "output_type": "stream",
     "text": [
      "merge_flag\n",
      "both          32433030\n",
      "left_only            0\n",
      "right_only           0\n",
      "Name: count, dtype: int64\n"
     ]
    }
   ],
   "source": [
    "# Perform the merge with a different indicator name\n",
    "df_Orders_products_merged = pd.merge(df_orders_products_combined,  df_prods_imported, on='product_id', indicator='merge_flag')\n",
    "\n",
    "# Confirm the results of the merge\n",
    "print(df_Orders_products_merged['merge_flag'].value_counts())"
   ]
  },
  {
   "cell_type": "code",
   "execution_count": 119,
   "id": "a54d1f19-8ab2-4c5a-8651-4e0d6a155c1e",
   "metadata": {},
   "outputs": [
    {
     "name": "stdout",
     "output_type": "stream",
     "text": [
      "Missing values in combined DataFrame:\n",
      "Unnamed: 0                0\n",
      "order_id                  0\n",
      "user_id                   0\n",
      "order_number              0\n",
      "order_dow                 0\n",
      "order_hour_of_day         0\n",
      "days_since_prior_order    0\n",
      "product_id                0\n",
      "add_to_cart_order         0\n",
      "reordered                 0\n",
      "existing_merge            0\n",
      "product_name              0\n",
      "aisle_id                  0\n",
      "department_id             0\n",
      "prices                    0\n",
      "merge_flag                0\n",
      "dtype: int64\n"
     ]
    }
   ],
   "source": [
    "# Check for missing values in the combined DataFrame\n",
    "missing_ords_prods_merge = df_Orders_products_merged.isnull().sum()\n",
    "\n",
    "print(\"Missing values in combined DataFrame:\")\n",
    "print(missing_ords_prods_merge)"
   ]
  },
  {
   "cell_type": "code",
   "execution_count": 121,
   "id": "047f9996-3298-46cc-b98f-bb66127493e0",
   "metadata": {},
   "outputs": [],
   "source": [
    "# Export the merged DataFrame to a pickle file\n",
    "df_Orders_products_merged.to_pickle(r\"C:\\Users\\marci\\15-07-2024Instacart Basket Analysis\\02 Data\\Prepared Data\\ords_prods_merge.pkl\")"
   ]
  },
  {
   "cell_type": "markdown",
   "id": "7a3e551d-ffca-4d59-ab00-1bfe0c3070b6",
   "metadata": {},
   "source": [
    "#  A strange result for MAX(Prices)"
   ]
  },
  {
   "cell_type": "code",
   "execution_count": 140,
   "id": "14920af0-4507-4d47-88c3-0e8f9b6284a7",
   "metadata": {},
   "outputs": [
    {
     "data": {
      "text/plain": [
       "count    3.243303e+07\n",
       "mean     1.198133e+01\n",
       "std      4.954401e+02\n",
       "min      1.000000e+00\n",
       "25%      4.200000e+00\n",
       "50%      7.400000e+00\n",
       "75%      1.130000e+01\n",
       "max      9.999900e+04\n",
       "Name: prices, dtype: float64"
      ]
     },
     "execution_count": 140,
     "metadata": {},
     "output_type": "execute_result"
    }
   ],
   "source": [
    "df_Orders_products_merged ['prices'].describe()"
   ]
  },
  {
   "cell_type": "code",
   "execution_count": null,
   "id": "cb112877-3c96-42bd-95d5-341b6e7f17f4",
   "metadata": {},
   "outputs": [],
   "source": [
    " "
   ]
  }
 ],
 "metadata": {
  "kernelspec": {
   "display_name": "Python 3 (ipykernel)",
   "language": "python",
   "name": "python3"
  },
  "language_info": {
   "codemirror_mode": {
    "name": "ipython",
    "version": 3
   },
   "file_extension": ".py",
   "mimetype": "text/x-python",
   "name": "python",
   "nbconvert_exporter": "python",
   "pygments_lexer": "ipython3",
   "version": "3.12.4"
  }
 },
 "nbformat": 4,
 "nbformat_minor": 5
}
