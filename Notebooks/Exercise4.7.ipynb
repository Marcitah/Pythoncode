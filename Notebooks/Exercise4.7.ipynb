{
 "cells": [
  {
   "cell_type": "code",
   "execution_count": 1,
   "id": "6a6a966b-433e-4632-8e37-5788aed0ccbe",
   "metadata": {},
   "outputs": [],
   "source": [
    "# Section 1: Import Libraries\n",
    "import pandas as pd  # For data manipulation\n",
    "import numpy as np  # For numerical operations\n",
    "import os  # For operating system interactions\n"
   ]
  },
  {
   "cell_type": "code",
   "execution_count": 3,
   "id": "ffa46c29-1d41-4651-afcc-745fe5129dcb",
   "metadata": {},
   "outputs": [],
   "source": [
    "# Define the path to the new dataset \n",
    "project_folder_path = r\"C:\\Users\\marci\\15-07-2024Instacart Basket Analysis\\02 Data\""
   ]
  },
  {
   "cell_type": "code",
   "execution_count": 5,
   "id": "27fdba29-b576-412a-8e76-eddce1d3535f",
   "metadata": {},
   "outputs": [],
   "source": [
    "# Import orders_products_combined.pkl into a DataFrame\n",
    "df_ords_prods_merge = pd.read_pickle(r'C:\\Users\\marci\\15-07-2024Instacart Basket Analysis\\02 Data\\Prepared Data\\ords_prods_merge.pkl')"
   ]
  },
  {
   "cell_type": "code",
   "execution_count": 7,
   "id": "e24bb78a-f3a8-4082-8a4a-1c2b8f1ff6d4",
   "metadata": {},
   "outputs": [
    {
     "name": "stdout",
     "output_type": "stream",
     "text": [
      "Missing values in combined DataFrame:\n",
      "Unnamed: 0                0\n",
      "order_id                  0\n",
      "user_id                   0\n",
      "order_number              0\n",
      "order_dow                 0\n",
      "order_hour_of_day         0\n",
      "days_since_prior_order    0\n",
      "product_id                0\n",
      "add_to_cart_order         0\n",
      "reordered                 0\n",
      "existing_merge            0\n",
      "product_name              0\n",
      "aisle_id                  0\n",
      "department_id             0\n",
      "prices                    0\n",
      "merge_flag                0\n",
      "dtype: int64\n"
     ]
    }
   ],
   "source": [
    "# Check for missing values in the combined DataFrame\n",
    "missing_df_ords_prods_merge = df_ords_prods_merge.isnull().sum()\n",
    "print(\"Missing values in combined DataFrame:\")\n",
    "print(missing_df_ords_prods_merge)"
   ]
  },
  {
   "cell_type": "code",
   "execution_count": 64,
   "id": "2e7c9458-273d-458d-949b-cd236cf1fdb8",
   "metadata": {},
   "outputs": [
    {
     "data": {
      "text/plain": [
       "(32433030, 16)"
      ]
     },
     "execution_count": 64,
     "metadata": {},
     "output_type": "execute_result"
    }
   ],
   "source": [
    "df_ords_prods_merge.shape"
   ]
  },
  {
   "cell_type": "code",
   "execution_count": 67,
   "id": "b80ec7bd-4ae6-4511-9abf-862bef182e27",
   "metadata": {},
   "outputs": [],
   "source": [
    "# create a subset \n",
    "df = df_ords_prods_merge[:1000000]"
   ]
  },
  {
   "cell_type": "code",
   "execution_count": 69,
   "id": "116f0043-f023-42f2-920f-786da3de90cf",
   "metadata": {},
   "outputs": [
    {
     "data": {
      "text/plain": [
       "(1000000, 16)"
      ]
     },
     "execution_count": 69,
     "metadata": {},
     "output_type": "execute_result"
    }
   ],
   "source": [
    "df.shape"
   ]
  },
  {
   "cell_type": "code",
   "execution_count": 9,
   "id": "873eda6b-948e-4a74-945a-59bfd0aa9ce5",
   "metadata": {},
   "outputs": [],
   "source": [
    "# Define a function\n",
    "\n",
    "def price_label(row):\n",
    "\n",
    "  if row['prices'] <= 5:\n",
    "    return 'Low-range product'\n",
    "  elif (row['prices'] > 5) and (row['prices'] <= 15):\n",
    "    return 'Mid-range product'\n",
    "  elif row['prices'] > 15:\n",
    "    return 'High range'\n",
    "  else: return 'Not enough data'"
   ]
  },
  {
   "cell_type": "code",
   "execution_count": 73,
   "id": "f2cd3d6c-f0ce-44b5-bf9a-cd88660212eb",
   "metadata": {},
   "outputs": [
    {
     "name": "stderr",
     "output_type": "stream",
     "text": [
      "C:\\Users\\marci\\AppData\\Local\\Temp\\ipykernel_23400\\3677927974.py:1: SettingWithCopyWarning: \n",
      "A value is trying to be set on a copy of a slice from a DataFrame.\n",
      "Try using .loc[row_indexer,col_indexer] = value instead\n",
      "\n",
      "See the caveats in the documentation: https://pandas.pydata.org/pandas-docs/stable/user_guide/indexing.html#returning-a-view-versus-a-copy\n",
      "  df['price_range'] = df.apply(price_label, axis=1)\n"
     ]
    }
   ],
   "source": [
    "df['price_range'] = df.apply(price_label, axis=1)\n"
   ]
  },
  {
   "cell_type": "code",
   "execution_count": 75,
   "id": "5d45dac2-4090-41cd-91f2-e2345d53459f",
   "metadata": {},
   "outputs": [
    {
     "data": {
      "text/plain": [
       "price_range\n",
       "Mid-range product    673458\n",
       "Low-range product    314129\n",
       "High range            12413\n",
       "Name: count, dtype: int64"
      ]
     },
     "execution_count": 75,
     "metadata": {},
     "output_type": "execute_result"
    }
   ],
   "source": [
    "df['price_range'].value_counts(dropna = False)"
   ]
  },
  {
   "cell_type": "code",
   "execution_count": 77,
   "id": "af668cea-0c6b-4a2b-b1e9-8c14400f8fb7",
   "metadata": {},
   "outputs": [
    {
     "data": {
      "text/plain": [
       "99999.0"
      ]
     },
     "execution_count": 77,
     "metadata": {},
     "output_type": "execute_result"
    }
   ],
   "source": [
    "df['prices'].max()"
   ]
  },
  {
   "cell_type": "code",
   "execution_count": 83,
   "id": "195d80f1-2efe-41f9-8399-9043af036199",
   "metadata": {},
   "outputs": [],
   "source": [
    "df.loc[df['prices'] > 15, 'price_range_loc'] = 'High-range product'\n"
   ]
  },
  {
   "cell_type": "code",
   "execution_count": 85,
   "id": "7ea56f24-fd0a-446f-8309-c24b44aad4d6",
   "metadata": {},
   "outputs": [],
   "source": [
    "df.loc[(df['prices'] <= 15) & (df['prices'] > 5), 'price_range_loc'] = 'Mid-range product' \n"
   ]
  },
  {
   "cell_type": "code",
   "execution_count": 87,
   "id": "f55ea319-55cc-458e-8574-63d72327df7b",
   "metadata": {},
   "outputs": [],
   "source": [
    "df.loc[df['prices'] <= 5, 'price_range_loc'] = 'Low-range product'"
   ]
  },
  {
   "cell_type": "code",
   "execution_count": 89,
   "id": "67cd60d1-7542-4169-9b55-5b60265fb1d8",
   "metadata": {},
   "outputs": [
    {
     "data": {
      "text/plain": [
       "price_range\n",
       "Mid-range product    673458\n",
       "Low-range product    314129\n",
       "High range            12413\n",
       "Name: count, dtype: int64"
      ]
     },
     "execution_count": 89,
     "metadata": {},
     "output_type": "execute_result"
    }
   ],
   "source": [
    "df['price_range'].value_counts(dropna = False)"
   ]
  },
  {
   "cell_type": "code",
   "execution_count": 95,
   "id": "b6c96926-6bc2-4bad-90f5-62071d899a07",
   "metadata": {},
   "outputs": [
    {
     "data": {
      "text/plain": [
       "order_dow\n",
       "0    6209410\n",
       "1    5665604\n",
       "6    4500101\n",
       "2    4217610\n",
       "5    4209334\n",
       "3    3843929\n",
       "4    3787042\n",
       "Name: count, dtype: int64"
      ]
     },
     "execution_count": 95,
     "metadata": {},
     "output_type": "execute_result"
    }
   ],
   "source": [
    "df_ords_prods_merge['order_dow'].value_counts(dropna=False)"
   ]
  },
  {
   "cell_type": "code",
   "execution_count": 101,
   "id": "c449ee85-3885-41a2-9eba-6af6141cb4d7",
   "metadata": {},
   "outputs": [],
   "source": [
    "result = []\n",
    "\n",
    "for value in df_ords_prods_merge[\"order_dow\"]:\n",
    "  if value == 0:\n",
    "    result.append(\"Busiest day\")\n",
    "  elif value == 4:\n",
    "    result.append(\"Least busy\")\n",
    "  else:\n",
    "    result.append(\"Regularly busy\")"
   ]
  },
  {
   "cell_type": "code",
   "execution_count": 105,
   "id": "241a9c41-d884-4b77-8b1f-9533bfe2ae36",
   "metadata": {},
   "outputs": [],
   "source": [
    "df_ords_prods_merge[\"Busiest day\"]= result"
   ]
  },
  {
   "cell_type": "code",
   "execution_count": 107,
   "id": "6608480b-bd64-4f36-bf1c-2bb95b3f7cb7",
   "metadata": {},
   "outputs": [
    {
     "data": {
      "text/plain": [
       "Busiest day\n",
       "Regularly busy    22436578\n",
       "Busiest day        6209410\n",
       "Least busy         3787042\n",
       "Name: count, dtype: int64"
      ]
     },
     "execution_count": 107,
     "metadata": {},
     "output_type": "execute_result"
    }
   ],
   "source": [
    "df_ords_prods_merge[\"Busiest day\"].value_counts(dropna=False)"
   ]
  },
  {
   "cell_type": "code",
   "execution_count": 109,
   "id": "efee626d-4d79-4196-b9a3-31af5c305801",
   "metadata": {},
   "outputs": [
    {
     "data": {
      "text/html": [
       "<div>\n",
       "<style scoped>\n",
       "    .dataframe tbody tr th:only-of-type {\n",
       "        vertical-align: middle;\n",
       "    }\n",
       "\n",
       "    .dataframe tbody tr th {\n",
       "        vertical-align: top;\n",
       "    }\n",
       "\n",
       "    .dataframe thead th {\n",
       "        text-align: right;\n",
       "    }\n",
       "</style>\n",
       "<table border=\"1\" class=\"dataframe\">\n",
       "  <thead>\n",
       "    <tr style=\"text-align: right;\">\n",
       "      <th></th>\n",
       "      <th>order_id</th>\n",
       "      <th>user_id</th>\n",
       "      <th>eval_set</th>\n",
       "      <th>order_number</th>\n",
       "      <th>order_dow</th>\n",
       "      <th>order_hour_of_day</th>\n",
       "      <th>days_since_prior_order</th>\n",
       "      <th>product_id</th>\n",
       "      <th>add_to_cart_order</th>\n",
       "      <th>reordered</th>\n",
       "      <th>existing_merge</th>\n",
       "      <th>product_name</th>\n",
       "      <th>aisle_id</th>\n",
       "      <th>department_id</th>\n",
       "      <th>prices</th>\n",
       "      <th>merge_flag</th>\n",
       "      <th>Busiest day</th>\n",
       "    </tr>\n",
       "  </thead>\n",
       "  <tbody>\n",
       "    <tr>\n",
       "      <th>0</th>\n",
       "      <td>2539329</td>\n",
       "      <td>1</td>\n",
       "      <td>prior</td>\n",
       "      <td>1</td>\n",
       "      <td>2</td>\n",
       "      <td>8</td>\n",
       "      <td>NaN</td>\n",
       "      <td>196</td>\n",
       "      <td>1</td>\n",
       "      <td>0</td>\n",
       "      <td>both</td>\n",
       "      <td>Soda</td>\n",
       "      <td>77</td>\n",
       "      <td>7</td>\n",
       "      <td>9.0</td>\n",
       "      <td>both</td>\n",
       "      <td>Regularly busy</td>\n",
       "    </tr>\n",
       "    <tr>\n",
       "      <th>1</th>\n",
       "      <td>2539329</td>\n",
       "      <td>1</td>\n",
       "      <td>prior</td>\n",
       "      <td>1</td>\n",
       "      <td>2</td>\n",
       "      <td>8</td>\n",
       "      <td>NaN</td>\n",
       "      <td>14084</td>\n",
       "      <td>2</td>\n",
       "      <td>0</td>\n",
       "      <td>both</td>\n",
       "      <td>Organic Unsweetened Vanilla Almond Milk</td>\n",
       "      <td>91</td>\n",
       "      <td>16</td>\n",
       "      <td>12.5</td>\n",
       "      <td>both</td>\n",
       "      <td>Regularly busy</td>\n",
       "    </tr>\n",
       "    <tr>\n",
       "      <th>2</th>\n",
       "      <td>2539329</td>\n",
       "      <td>1</td>\n",
       "      <td>prior</td>\n",
       "      <td>1</td>\n",
       "      <td>2</td>\n",
       "      <td>8</td>\n",
       "      <td>NaN</td>\n",
       "      <td>12427</td>\n",
       "      <td>3</td>\n",
       "      <td>0</td>\n",
       "      <td>both</td>\n",
       "      <td>Original Beef Jerky</td>\n",
       "      <td>23</td>\n",
       "      <td>19</td>\n",
       "      <td>4.4</td>\n",
       "      <td>both</td>\n",
       "      <td>Regularly busy</td>\n",
       "    </tr>\n",
       "    <tr>\n",
       "      <th>3</th>\n",
       "      <td>2539329</td>\n",
       "      <td>1</td>\n",
       "      <td>prior</td>\n",
       "      <td>1</td>\n",
       "      <td>2</td>\n",
       "      <td>8</td>\n",
       "      <td>NaN</td>\n",
       "      <td>26088</td>\n",
       "      <td>4</td>\n",
       "      <td>0</td>\n",
       "      <td>both</td>\n",
       "      <td>Aged White Cheddar Popcorn</td>\n",
       "      <td>23</td>\n",
       "      <td>19</td>\n",
       "      <td>4.7</td>\n",
       "      <td>both</td>\n",
       "      <td>Regularly busy</td>\n",
       "    </tr>\n",
       "    <tr>\n",
       "      <th>4</th>\n",
       "      <td>2539329</td>\n",
       "      <td>1</td>\n",
       "      <td>prior</td>\n",
       "      <td>1</td>\n",
       "      <td>2</td>\n",
       "      <td>8</td>\n",
       "      <td>NaN</td>\n",
       "      <td>26405</td>\n",
       "      <td>5</td>\n",
       "      <td>0</td>\n",
       "      <td>both</td>\n",
       "      <td>XL Pick-A-Size Paper Towel Rolls</td>\n",
       "      <td>54</td>\n",
       "      <td>17</td>\n",
       "      <td>1.0</td>\n",
       "      <td>both</td>\n",
       "      <td>Regularly busy</td>\n",
       "    </tr>\n",
       "  </tbody>\n",
       "</table>\n",
       "</div>"
      ],
      "text/plain": [
       "   order_id  user_id eval_set  order_number  order_dow  order_hour_of_day  \\\n",
       "0   2539329        1    prior             1          2                  8   \n",
       "1   2539329        1    prior             1          2                  8   \n",
       "2   2539329        1    prior             1          2                  8   \n",
       "3   2539329        1    prior             1          2                  8   \n",
       "4   2539329        1    prior             1          2                  8   \n",
       "\n",
       "   days_since_prior_order  product_id  add_to_cart_order  reordered  \\\n",
       "0                     NaN         196                  1          0   \n",
       "1                     NaN       14084                  2          0   \n",
       "2                     NaN       12427                  3          0   \n",
       "3                     NaN       26088                  4          0   \n",
       "4                     NaN       26405                  5          0   \n",
       "\n",
       "  existing_merge                             product_name  aisle_id  \\\n",
       "0           both                                     Soda        77   \n",
       "1           both  Organic Unsweetened Vanilla Almond Milk        91   \n",
       "2           both                      Original Beef Jerky        23   \n",
       "3           both               Aged White Cheddar Popcorn        23   \n",
       "4           both         XL Pick-A-Size Paper Towel Rolls        54   \n",
       "\n",
       "   department_id  prices merge_flag     Busiest day  \n",
       "0              7     9.0       both  Regularly busy  \n",
       "1             16    12.5       both  Regularly busy  \n",
       "2             19     4.4       both  Regularly busy  \n",
       "3             19     4.7       both  Regularly busy  \n",
       "4             17     1.0       both  Regularly busy  "
      ]
     },
     "execution_count": 109,
     "metadata": {},
     "output_type": "execute_result"
    }
   ],
   "source": [
    "df_ords_prods_merge.head()"
   ]
  },
  {
   "cell_type": "code",
   "execution_count": 111,
   "id": "4c0d06f9-133f-47b4-83fe-697d613ef0df",
   "metadata": {},
   "outputs": [
    {
     "data": {
      "text/plain": [
       "dtype('int64')"
      ]
     },
     "execution_count": 111,
     "metadata": {},
     "output_type": "execute_result"
    }
   ],
   "source": [
    "df_ords_prods_merge['order_id'].dtype"
   ]
  },
  {
   "cell_type": "code",
   "execution_count": 113,
   "id": "ad4901ff-c31c-435c-83a0-4607ff25b39b",
   "metadata": {},
   "outputs": [
    {
     "name": "stdout",
     "output_type": "stream",
     "text": [
      "<class 'pandas.core.frame.DataFrame'>\n",
      "RangeIndex: 32433030 entries, 0 to 32433029\n",
      "Data columns (total 17 columns):\n",
      " #   Column                  Dtype   \n",
      "---  ------                  -----   \n",
      " 0   order_id                int64   \n",
      " 1   user_id                 int64   \n",
      " 2   eval_set                object  \n",
      " 3   order_number            int64   \n",
      " 4   order_dow               int64   \n",
      " 5   order_hour_of_day       int64   \n",
      " 6   days_since_prior_order  float64 \n",
      " 7   product_id              int64   \n",
      " 8   add_to_cart_order       int64   \n",
      " 9   reordered               int64   \n",
      " 10  existing_merge          category\n",
      " 11  product_name            object  \n",
      " 12  aisle_id                int64   \n",
      " 13  department_id           int64   \n",
      " 14  prices                  float64 \n",
      " 15  merge_flag              category\n",
      " 16  Busiest day             object  \n",
      "dtypes: category(2), float64(2), int64(10), object(3)\n",
      "memory usage: 3.7+ GB\n"
     ]
    }
   ],
   "source": [
    "df_ords_prods_merge.info()"
   ]
  },
  {
   "cell_type": "markdown",
   "id": "f3239c5b-5013-4b9d-8501-9747b750de70",
   "metadata": {},
   "source": [
    "# Exercise 4.7\n"
   ]
  },
  {
   "cell_type": "code",
   "execution_count": 9,
   "id": "beba7bf7-abba-4107-8dfe-21124ea0ddf4",
   "metadata": {},
   "outputs": [
    {
     "name": "stdout",
     "output_type": "stream",
     "text": [
      "order_dow\n",
      "0    6209410\n",
      "1    5665604\n",
      "6    4500101\n",
      "2    4217610\n",
      "5    4209334\n",
      "3    3843929\n",
      "4    3787042\n",
      "Name: count, dtype: int64\n",
      "Busiest days: [0, 1]\n",
      "Slowest days: [3, 4]\n"
     ]
    }
   ],
   "source": [
    " # Count the orders for each day of the week\n",
    "order_dow_counts = df_ords_prods_merge['order_dow'].value_counts().sort_values(ascending=False)\n",
    "print(order_dow_counts)\n",
    "\n",
    "# Get the two busiest and two slowest days\n",
    "busiest_days = order_dow_counts.index[:2].tolist()\n",
    "slowest_days = order_dow_counts.index[-2:].tolist()\n",
    "\n",
    "print(f\"Busiest days: {busiest_days}\")\n",
    "print(f\"Slowest days: {slowest_days}\")\n",
    "\n",
    "\n"
   ]
  },
  {
   "cell_type": "markdown",
   "id": "439c740d-ab8e-4080-8423-a304923ce132",
   "metadata": {},
   "source": [
    "# The busiest days of the week are: Saturday and Sunday.\n",
    "# The slowest days of week are: Tuesday and Wednesday"
   ]
  },
  {
   "cell_type": "code",
   "execution_count": 11,
   "id": "c94e4ed3-0221-48f7-975a-5caf694c798d",
   "metadata": {},
   "outputs": [],
   "source": [
    "# Create the new busiest_days column\n",
    "def label_busiest_days(row):\n",
    "    if row['order_dow'] in busiest_days:\n",
    "        return 'Busiest days'\n",
    "    elif row['order_dow'] in slowest_days:\n",
    "        return 'Slowest days'\n",
    "    else:\n",
    "        return 'Regularly busy'\n",
    "\n",
    "df_ords_prods_merge['busiest_days'] = df_ords_prods_merge.apply(label_busiest_days, axis=1)"
   ]
  },
  {
   "cell_type": "code",
   "execution_count": 13,
   "id": "599b6869-355a-4f69-9d60-984f85ea463d",
   "metadata": {},
   "outputs": [
    {
     "name": "stdout",
     "output_type": "stream",
     "text": [
      "busiest_days\n",
      "Regularly busy    12927045\n",
      "Busiest days      11875014\n",
      "Slowest days       7630971\n",
      "Name: count, dtype: int64\n"
     ]
    }
   ],
   "source": [
    "# Check the values of the new column for accuracy\n",
    "busiest_days_counts = df_ords_prods_merge['busiest_days'].value_counts()\n",
    "print(busiest_days_counts)"
   ]
  },
  {
   "cell_type": "code",
   "execution_count": 15,
   "id": "5ce52b51-9b04-4059-bbc0-6692b5d5ae01",
   "metadata": {},
   "outputs": [
    {
     "data": {
      "text/html": [
       "<div>\n",
       "<style scoped>\n",
       "    .dataframe tbody tr th:only-of-type {\n",
       "        vertical-align: middle;\n",
       "    }\n",
       "\n",
       "    .dataframe tbody tr th {\n",
       "        vertical-align: top;\n",
       "    }\n",
       "\n",
       "    .dataframe thead th {\n",
       "        text-align: right;\n",
       "    }\n",
       "</style>\n",
       "<table border=\"1\" class=\"dataframe\">\n",
       "  <thead>\n",
       "    <tr style=\"text-align: right;\">\n",
       "      <th></th>\n",
       "      <th>Unnamed: 0</th>\n",
       "      <th>order_id</th>\n",
       "      <th>user_id</th>\n",
       "      <th>order_number</th>\n",
       "      <th>order_dow</th>\n",
       "      <th>order_hour_of_day</th>\n",
       "      <th>days_since_prior_order</th>\n",
       "      <th>product_id</th>\n",
       "      <th>add_to_cart_order</th>\n",
       "      <th>reordered</th>\n",
       "      <th>existing_merge</th>\n",
       "      <th>product_name</th>\n",
       "      <th>aisle_id</th>\n",
       "      <th>department_id</th>\n",
       "      <th>prices</th>\n",
       "      <th>merge_flag</th>\n",
       "      <th>busiest_days</th>\n",
       "    </tr>\n",
       "  </thead>\n",
       "  <tbody>\n",
       "    <tr>\n",
       "      <th>32433025</th>\n",
       "      <td>3421081</td>\n",
       "      <td>2977660</td>\n",
       "      <td>206209</td>\n",
       "      <td>13</td>\n",
       "      <td>1</td>\n",
       "      <td>12</td>\n",
       "      <td>7.0</td>\n",
       "      <td>14197</td>\n",
       "      <td>5</td>\n",
       "      <td>1</td>\n",
       "      <td>both</td>\n",
       "      <td>Tomato Paste</td>\n",
       "      <td>9</td>\n",
       "      <td>9</td>\n",
       "      <td>5.6</td>\n",
       "      <td>both</td>\n",
       "      <td>Busiest days</td>\n",
       "    </tr>\n",
       "    <tr>\n",
       "      <th>32433026</th>\n",
       "      <td>3421081</td>\n",
       "      <td>2977660</td>\n",
       "      <td>206209</td>\n",
       "      <td>13</td>\n",
       "      <td>1</td>\n",
       "      <td>12</td>\n",
       "      <td>7.0</td>\n",
       "      <td>38730</td>\n",
       "      <td>6</td>\n",
       "      <td>0</td>\n",
       "      <td>both</td>\n",
       "      <td>Brownie Crunch High Protein Bar</td>\n",
       "      <td>3</td>\n",
       "      <td>19</td>\n",
       "      <td>5.9</td>\n",
       "      <td>both</td>\n",
       "      <td>Busiest days</td>\n",
       "    </tr>\n",
       "    <tr>\n",
       "      <th>32433027</th>\n",
       "      <td>3421081</td>\n",
       "      <td>2977660</td>\n",
       "      <td>206209</td>\n",
       "      <td>13</td>\n",
       "      <td>1</td>\n",
       "      <td>12</td>\n",
       "      <td>7.0</td>\n",
       "      <td>31477</td>\n",
       "      <td>7</td>\n",
       "      <td>0</td>\n",
       "      <td>both</td>\n",
       "      <td>High Protein Bar Chunky Peanut Butter</td>\n",
       "      <td>3</td>\n",
       "      <td>19</td>\n",
       "      <td>4.2</td>\n",
       "      <td>both</td>\n",
       "      <td>Busiest days</td>\n",
       "    </tr>\n",
       "    <tr>\n",
       "      <th>32433028</th>\n",
       "      <td>3421081</td>\n",
       "      <td>2977660</td>\n",
       "      <td>206209</td>\n",
       "      <td>13</td>\n",
       "      <td>1</td>\n",
       "      <td>12</td>\n",
       "      <td>7.0</td>\n",
       "      <td>6567</td>\n",
       "      <td>8</td>\n",
       "      <td>0</td>\n",
       "      <td>both</td>\n",
       "      <td>Chocolate Peanut Butter Protein Bar</td>\n",
       "      <td>3</td>\n",
       "      <td>19</td>\n",
       "      <td>4.9</td>\n",
       "      <td>both</td>\n",
       "      <td>Busiest days</td>\n",
       "    </tr>\n",
       "    <tr>\n",
       "      <th>32433029</th>\n",
       "      <td>3421081</td>\n",
       "      <td>2977660</td>\n",
       "      <td>206209</td>\n",
       "      <td>13</td>\n",
       "      <td>1</td>\n",
       "      <td>12</td>\n",
       "      <td>7.0</td>\n",
       "      <td>22920</td>\n",
       "      <td>9</td>\n",
       "      <td>0</td>\n",
       "      <td>both</td>\n",
       "      <td>Roasted &amp; Salted Shelled Pistachios</td>\n",
       "      <td>117</td>\n",
       "      <td>19</td>\n",
       "      <td>1.7</td>\n",
       "      <td>both</td>\n",
       "      <td>Busiest days</td>\n",
       "    </tr>\n",
       "  </tbody>\n",
       "</table>\n",
       "</div>"
      ],
      "text/plain": [
       "          Unnamed: 0  order_id  user_id  order_number  order_dow  \\\n",
       "32433025     3421081   2977660   206209            13          1   \n",
       "32433026     3421081   2977660   206209            13          1   \n",
       "32433027     3421081   2977660   206209            13          1   \n",
       "32433028     3421081   2977660   206209            13          1   \n",
       "32433029     3421081   2977660   206209            13          1   \n",
       "\n",
       "          order_hour_of_day  days_since_prior_order  product_id  \\\n",
       "32433025                 12                     7.0       14197   \n",
       "32433026                 12                     7.0       38730   \n",
       "32433027                 12                     7.0       31477   \n",
       "32433028                 12                     7.0        6567   \n",
       "32433029                 12                     7.0       22920   \n",
       "\n",
       "          add_to_cart_order  reordered existing_merge  \\\n",
       "32433025                  5          1           both   \n",
       "32433026                  6          0           both   \n",
       "32433027                  7          0           both   \n",
       "32433028                  8          0           both   \n",
       "32433029                  9          0           both   \n",
       "\n",
       "                                   product_name  aisle_id  department_id  \\\n",
       "32433025                           Tomato Paste         9              9   \n",
       "32433026        Brownie Crunch High Protein Bar         3             19   \n",
       "32433027  High Protein Bar Chunky Peanut Butter         3             19   \n",
       "32433028    Chocolate Peanut Butter Protein Bar         3             19   \n",
       "32433029    Roasted & Salted Shelled Pistachios       117             19   \n",
       "\n",
       "          prices merge_flag  busiest_days  \n",
       "32433025     5.6       both  Busiest days  \n",
       "32433026     5.9       both  Busiest days  \n",
       "32433027     4.2       both  Busiest days  \n",
       "32433028     4.9       both  Busiest days  \n",
       "32433029     1.7       both  Busiest days  "
      ]
     },
     "execution_count": 15,
     "metadata": {},
     "output_type": "execute_result"
    }
   ],
   "source": [
    "df_ords_prods_merge.tail()"
   ]
  },
  {
   "cell_type": "markdown",
   "id": "be98fec8-044d-4794-bc21-2026cb987898",
   "metadata": {},
   "source": [
    "# Creating the \"busiest_period_of_day\" column"
   ]
  },
  {
   "cell_type": "code",
   "execution_count": 17,
   "id": "37ad6141-28a0-462d-a5b9-5c0db4cb883c",
   "metadata": {},
   "outputs": [
    {
     "name": "stdout",
     "output_type": "stream",
     "text": [
      "order_hour_of_day\n",
      "10    2764288\n",
      "11    2738483\n",
      "14    2691448\n",
      "15    2664420\n",
      "13    2663169\n",
      "12    2620719\n",
      "16    2537358\n",
      "9     2456591\n",
      "17    2089385\n",
      "8     1719888\n",
      "18    1637858\n",
      "19    1259335\n",
      "20     976991\n",
      "7      891900\n",
      "21     796341\n",
      "22     634715\n",
      "23     402593\n",
      "6      290763\n",
      "0      218925\n",
      "1      115780\n",
      "5       88054\n",
      "2       69429\n",
      "4       53280\n",
      "3       51317\n",
      "Name: count, dtype: int64\n",
      "Most orders hours: Index([10, 11, 14, 15, 13, 12, 16, 9], dtype='int64', name='order_hour_of_day')\n",
      "Fewest orders hours: Index([23, 6, 0, 1, 5, 2, 4, 3], dtype='int64', name='order_hour_of_day')\n",
      "Average orders hours: Index([17, 8, 18, 19, 20, 7, 21, 22], dtype='int64', name='order_hour_of_day')\n"
     ]
    }
   ],
   "source": [
    "# Count the orders for each hour of the day\n",
    "order_hour_counts = df_ords_prods_merge['order_hour_of_day'].value_counts().sort_values(ascending=False)\n",
    "print(order_hour_counts)\n",
    "\n",
    "# Divide the hours into categories. We are going to divide the hours into \"Most orders,\" \"Average orders,\" and \"Fewest orders\" based on the frequency of orders.\n",
    "most_orders = order_hour_counts.index[:8]  # top 8 hours\n",
    "fewest_orders = order_hour_counts.index[-8:]  # bottom 8 hours\n",
    "average_orders = order_hour_counts.index[8:-8]  # middle hours\n",
    "\n",
    "print(f\"Most orders hours: {most_orders}\")\n",
    "print(f\"Fewest orders hours: {fewest_orders}\")\n",
    "print(f\"Average orders hours: {average_orders}\")\n",
    "\n",
    "# Create the new busiest_period_of_day column\n",
    "def label_busiest_period(row):\n",
    "    if row['order_hour_of_day'] in most_orders:\n",
    "        return 'Most orders'\n",
    "    elif row['order_hour_of_day'] in fewest_orders:\n",
    "        return 'Fewest orders'\n",
    "    else:\n",
    "        return 'Average orders'\n",
    "\n",
    "df_ords_prods_merge['busiest_period_of_day'] = df_ords_prods_merge.apply(label_busiest_period, axis=1)"
   ]
  },
  {
   "cell_type": "markdown",
   "id": "5ce111c9-e514-4186-a6c8-3f56b7d1da85",
   "metadata": {},
   "source": [
    "# Most orders hours: from 09:00 to 16:00 .\n",
    "# Fewest orders hours: from 23:00 to 06:00.\n",
    "# Average orders hours: from 17:00 to 22:00 and from 07:00 to 08:00"
   ]
  },
  {
   "cell_type": "markdown",
   "id": "52cd6a4a-9677-4471-b023-d87a7778261d",
   "metadata": {},
   "source": [
    "# Verify the new column"
   ]
  },
  {
   "cell_type": "code",
   "execution_count": 19,
   "id": "fb55f59b-99f0-46c7-a588-e0eb347caf38",
   "metadata": {},
   "outputs": [
    {
     "name": "stdout",
     "output_type": "stream",
     "text": [
      "busiest_period_of_day\n",
      "Most orders       21136476\n",
      "Average orders    10006413\n",
      "Fewest orders      1290141\n",
      "Name: count, dtype: int64\n"
     ]
    }
   ],
   "source": [
    "# Check the values of the new column for accuracy\n",
    "busiest_period_counts = df_ords_prods_merge['busiest_period_of_day'].value_counts()\n",
    "print(busiest_period_counts)"
   ]
  },
  {
   "cell_type": "code",
   "execution_count": 21,
   "id": "267be159-9132-4b59-83c7-29472e19e620",
   "metadata": {},
   "outputs": [],
   "source": [
    "# Export the DataFrame as a pickle file\n",
    "df_ords_prods_merge.to_pickle(r\"C:\\Users\\marci\\15-07-2024Instacart Basket Analysis\\02 Data\\Prepared Data\\ords_prods_merge.pkl\")"
   ]
  },
  {
   "cell_type": "code",
   "execution_count": null,
   "id": "b4a262e8-e3c7-4855-8645-e7cc7cfd279f",
   "metadata": {},
   "outputs": [],
   "source": []
  }
 ],
 "metadata": {
  "kernelspec": {
   "display_name": "Python 3 (ipykernel)",
   "language": "python",
   "name": "python3"
  },
  "language_info": {
   "codemirror_mode": {
    "name": "ipython",
    "version": 3
   },
   "file_extension": ".py",
   "mimetype": "text/x-python",
   "name": "python",
   "nbconvert_exporter": "python",
   "pygments_lexer": "ipython3",
   "version": "3.12.4"
  }
 },
 "nbformat": 4,
 "nbformat_minor": 5
}
