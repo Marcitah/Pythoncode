{
 "cells": [
  {
   "cell_type": "markdown",
   "id": "f8340dca-d7c5-424a-b971-48b26b18843d",
   "metadata": {},
   "source": [
    "# Section 1: Import Libraries"
   ]
  },
  {
   "cell_type": "code",
   "execution_count": 31,
   "id": "2f446bec-8d5a-4a1b-9118-726313002a04",
   "metadata": {},
   "outputs": [],
   "source": [
    "import pandas as pd  # For data manipulation\n",
    "import numpy as np  # For numerical operations\n",
    "import os  # For operating system interactions"
   ]
  },
  {
   "cell_type": "markdown",
   "id": "f3b7c5ce-a5af-4f4c-8bfe-7c7c60172bfa",
   "metadata": {},
   "source": [
    "# Define project folder path"
   ]
  },
  {
   "cell_type": "code",
   "execution_count": 33,
   "id": "3ca549aa-d0a4-43b1-875a-a9a7817bee25",
   "metadata": {},
   "outputs": [],
   "source": [
    "project_folder_path = r\"C:\\Users\\marci\\15-07-2024Instacart Basket Analysis\\02 Data\""
   ]
  },
  {
   "cell_type": "markdown",
   "id": "630e06eb-0ea5-4e82-b583-300a9c834a76",
   "metadata": {},
   "source": [
    "# Load data\n"
   ]
  },
  {
   "cell_type": "code",
   "execution_count": 35,
   "id": "7916853e-b05e-4cbd-aaf4-be624fda882c",
   "metadata": {},
   "outputs": [],
   "source": [
    "orders_path = os.path.join(project_folder_path, \"Original Data\", \"orders.csv\")\n",
    "df_ords = pd.read_csv(orders_path)\n",
    "\n",
    "products_path = os.path.join(project_folder_path, \"Original Data\", \"products.csv\")\n",
    "df_prods = pd.read_csv(products_path)"
   ]
  },
  {
   "cell_type": "code",
   "execution_count": 13,
   "id": "0f976046-a104-45f1-a4f6-aeed1a38f528",
   "metadata": {},
   "outputs": [
    {
     "data": {
      "text/html": [
       "<div>\n",
       "<style scoped>\n",
       "    .dataframe tbody tr th:only-of-type {\n",
       "        vertical-align: middle;\n",
       "    }\n",
       "\n",
       "    .dataframe tbody tr th {\n",
       "        vertical-align: top;\n",
       "    }\n",
       "\n",
       "    .dataframe thead th {\n",
       "        text-align: right;\n",
       "    }\n",
       "</style>\n",
       "<table border=\"1\" class=\"dataframe\">\n",
       "  <thead>\n",
       "    <tr style=\"text-align: right;\">\n",
       "      <th></th>\n",
       "      <th>order_id</th>\n",
       "      <th>user_id</th>\n",
       "      <th>eval_set</th>\n",
       "      <th>order_number</th>\n",
       "      <th>order_dow</th>\n",
       "      <th>order_hour_of_day</th>\n",
       "      <th>days_since_prior_order</th>\n",
       "    </tr>\n",
       "  </thead>\n",
       "  <tbody>\n",
       "    <tr>\n",
       "      <th>0</th>\n",
       "      <td>2539329</td>\n",
       "      <td>1</td>\n",
       "      <td>prior</td>\n",
       "      <td>1</td>\n",
       "      <td>2</td>\n",
       "      <td>8</td>\n",
       "      <td>NaN</td>\n",
       "    </tr>\n",
       "    <tr>\n",
       "      <th>1</th>\n",
       "      <td>2398795</td>\n",
       "      <td>1</td>\n",
       "      <td>prior</td>\n",
       "      <td>2</td>\n",
       "      <td>3</td>\n",
       "      <td>7</td>\n",
       "      <td>15.0</td>\n",
       "    </tr>\n",
       "    <tr>\n",
       "      <th>2</th>\n",
       "      <td>473747</td>\n",
       "      <td>1</td>\n",
       "      <td>prior</td>\n",
       "      <td>3</td>\n",
       "      <td>3</td>\n",
       "      <td>12</td>\n",
       "      <td>21.0</td>\n",
       "    </tr>\n",
       "    <tr>\n",
       "      <th>3</th>\n",
       "      <td>2254736</td>\n",
       "      <td>1</td>\n",
       "      <td>prior</td>\n",
       "      <td>4</td>\n",
       "      <td>4</td>\n",
       "      <td>7</td>\n",
       "      <td>29.0</td>\n",
       "    </tr>\n",
       "    <tr>\n",
       "      <th>4</th>\n",
       "      <td>431534</td>\n",
       "      <td>1</td>\n",
       "      <td>prior</td>\n",
       "      <td>5</td>\n",
       "      <td>4</td>\n",
       "      <td>15</td>\n",
       "      <td>28.0</td>\n",
       "    </tr>\n",
       "  </tbody>\n",
       "</table>\n",
       "</div>"
      ],
      "text/plain": [
       "   order_id  user_id eval_set  order_number  order_dow  order_hour_of_day  \\\n",
       "0   2539329        1    prior             1          2                  8   \n",
       "1   2398795        1    prior             2          3                  7   \n",
       "2    473747        1    prior             3          3                 12   \n",
       "3   2254736        1    prior             4          4                  7   \n",
       "4    431534        1    prior             5          4                 15   \n",
       "\n",
       "   days_since_prior_order  \n",
       "0                     NaN  \n",
       "1                    15.0  \n",
       "2                    21.0  \n",
       "3                    29.0  \n",
       "4                    28.0  "
      ]
     },
     "execution_count": 13,
     "metadata": {},
     "output_type": "execute_result"
    }
   ],
   "source": [
    "df_ords.head()"
   ]
  },
  {
   "cell_type": "code",
   "execution_count": 15,
   "id": "3bdb43d8-d327-46b8-a3b8-ac6340e819ea",
   "metadata": {},
   "outputs": [
    {
     "data": {
      "text/html": [
       "<div>\n",
       "<style scoped>\n",
       "    .dataframe tbody tr th:only-of-type {\n",
       "        vertical-align: middle;\n",
       "    }\n",
       "\n",
       "    .dataframe tbody tr th {\n",
       "        vertical-align: top;\n",
       "    }\n",
       "\n",
       "    .dataframe thead th {\n",
       "        text-align: right;\n",
       "    }\n",
       "</style>\n",
       "<table border=\"1\" class=\"dataframe\">\n",
       "  <thead>\n",
       "    <tr style=\"text-align: right;\">\n",
       "      <th></th>\n",
       "      <th>product_id</th>\n",
       "      <th>product_name</th>\n",
       "      <th>aisle_id</th>\n",
       "      <th>department_id</th>\n",
       "      <th>prices</th>\n",
       "    </tr>\n",
       "  </thead>\n",
       "  <tbody>\n",
       "    <tr>\n",
       "      <th>0</th>\n",
       "      <td>1</td>\n",
       "      <td>Chocolate Sandwich Cookies</td>\n",
       "      <td>61</td>\n",
       "      <td>19</td>\n",
       "      <td>5.8</td>\n",
       "    </tr>\n",
       "    <tr>\n",
       "      <th>1</th>\n",
       "      <td>2</td>\n",
       "      <td>All-Seasons Salt</td>\n",
       "      <td>104</td>\n",
       "      <td>13</td>\n",
       "      <td>9.3</td>\n",
       "    </tr>\n",
       "    <tr>\n",
       "      <th>2</th>\n",
       "      <td>3</td>\n",
       "      <td>Robust Golden Unsweetened Oolong Tea</td>\n",
       "      <td>94</td>\n",
       "      <td>7</td>\n",
       "      <td>4.5</td>\n",
       "    </tr>\n",
       "    <tr>\n",
       "      <th>3</th>\n",
       "      <td>4</td>\n",
       "      <td>Smart Ones Classic Favorites Mini Rigatoni Wit...</td>\n",
       "      <td>38</td>\n",
       "      <td>1</td>\n",
       "      <td>10.5</td>\n",
       "    </tr>\n",
       "    <tr>\n",
       "      <th>4</th>\n",
       "      <td>5</td>\n",
       "      <td>Green Chile Anytime Sauce</td>\n",
       "      <td>5</td>\n",
       "      <td>13</td>\n",
       "      <td>4.3</td>\n",
       "    </tr>\n",
       "  </tbody>\n",
       "</table>\n",
       "</div>"
      ],
      "text/plain": [
       "   product_id                                       product_name  aisle_id  \\\n",
       "0           1                         Chocolate Sandwich Cookies        61   \n",
       "1           2                                   All-Seasons Salt       104   \n",
       "2           3               Robust Golden Unsweetened Oolong Tea        94   \n",
       "3           4  Smart Ones Classic Favorites Mini Rigatoni Wit...        38   \n",
       "4           5                          Green Chile Anytime Sauce         5   \n",
       "\n",
       "   department_id  prices  \n",
       "0             19     5.8  \n",
       "1             13     9.3  \n",
       "2              7     4.5  \n",
       "3              1    10.5  \n",
       "4             13     4.3  "
      ]
     },
     "execution_count": 15,
     "metadata": {},
     "output_type": "execute_result"
    }
   ],
   "source": [
    "df_prods.head()"
   ]
  },
  {
   "cell_type": "code",
   "execution_count": 17,
   "id": "700c47fe-83c7-4307-9da0-0dc09b626586",
   "metadata": {},
   "outputs": [
    {
     "data": {
      "text/html": [
       "<div>\n",
       "<style scoped>\n",
       "    .dataframe tbody tr th:only-of-type {\n",
       "        vertical-align: middle;\n",
       "    }\n",
       "\n",
       "    .dataframe tbody tr th {\n",
       "        vertical-align: top;\n",
       "    }\n",
       "\n",
       "    .dataframe thead th {\n",
       "        text-align: right;\n",
       "    }\n",
       "</style>\n",
       "<table border=\"1\" class=\"dataframe\">\n",
       "  <thead>\n",
       "    <tr style=\"text-align: right;\">\n",
       "      <th></th>\n",
       "      <th>order_id</th>\n",
       "      <th>user_id</th>\n",
       "      <th>eval_set</th>\n",
       "      <th>order_number</th>\n",
       "      <th>order_dow</th>\n",
       "      <th>order_hour_of_day</th>\n",
       "      <th>days_since_prior_order</th>\n",
       "    </tr>\n",
       "  </thead>\n",
       "  <tbody>\n",
       "    <tr>\n",
       "      <th>0</th>\n",
       "      <td>2539329</td>\n",
       "      <td>1</td>\n",
       "      <td>prior</td>\n",
       "      <td>1</td>\n",
       "      <td>2</td>\n",
       "      <td>8</td>\n",
       "      <td>NaN</td>\n",
       "    </tr>\n",
       "    <tr>\n",
       "      <th>1</th>\n",
       "      <td>2398795</td>\n",
       "      <td>1</td>\n",
       "      <td>prior</td>\n",
       "      <td>2</td>\n",
       "      <td>3</td>\n",
       "      <td>7</td>\n",
       "      <td>15.0</td>\n",
       "    </tr>\n",
       "    <tr>\n",
       "      <th>2</th>\n",
       "      <td>473747</td>\n",
       "      <td>1</td>\n",
       "      <td>prior</td>\n",
       "      <td>3</td>\n",
       "      <td>3</td>\n",
       "      <td>12</td>\n",
       "      <td>21.0</td>\n",
       "    </tr>\n",
       "    <tr>\n",
       "      <th>3</th>\n",
       "      <td>2254736</td>\n",
       "      <td>1</td>\n",
       "      <td>prior</td>\n",
       "      <td>4</td>\n",
       "      <td>4</td>\n",
       "      <td>7</td>\n",
       "      <td>29.0</td>\n",
       "    </tr>\n",
       "    <tr>\n",
       "      <th>4</th>\n",
       "      <td>431534</td>\n",
       "      <td>1</td>\n",
       "      <td>prior</td>\n",
       "      <td>5</td>\n",
       "      <td>4</td>\n",
       "      <td>15</td>\n",
       "      <td>28.0</td>\n",
       "    </tr>\n",
       "  </tbody>\n",
       "</table>\n",
       "</div>"
      ],
      "text/plain": [
       "   order_id  user_id eval_set  order_number  order_dow  order_hour_of_day  \\\n",
       "0   2539329        1    prior             1          2                  8   \n",
       "1   2398795        1    prior             2          3                  7   \n",
       "2    473747        1    prior             3          3                 12   \n",
       "3   2254736        1    prior             4          4                  7   \n",
       "4    431534        1    prior             5          4                 15   \n",
       "\n",
       "   days_since_prior_order  \n",
       "0                     NaN  \n",
       "1                    15.0  \n",
       "2                    21.0  \n",
       "3                    29.0  \n",
       "4                    28.0  "
      ]
     },
     "execution_count": 17,
     "metadata": {},
     "output_type": "execute_result"
    }
   ],
   "source": [
    "df_ords.head()"
   ]
  },
  {
   "cell_type": "markdown",
   "id": "3366708b-be26-414c-a7c4-c1c7b8ea1a20",
   "metadata": {},
   "source": [
    "# Running discribe function on df_ords"
   ]
  },
  {
   "cell_type": "code",
   "execution_count": 37,
   "id": "4b63b1bd-f689-43c2-8727-611a65472154",
   "metadata": {
    "scrolled": true
   },
   "outputs": [
    {
     "data": {
      "text/html": [
       "<div>\n",
       "<style scoped>\n",
       "    .dataframe tbody tr th:only-of-type {\n",
       "        vertical-align: middle;\n",
       "    }\n",
       "\n",
       "    .dataframe tbody tr th {\n",
       "        vertical-align: top;\n",
       "    }\n",
       "\n",
       "    .dataframe thead th {\n",
       "        text-align: right;\n",
       "    }\n",
       "</style>\n",
       "<table border=\"1\" class=\"dataframe\">\n",
       "  <thead>\n",
       "    <tr style=\"text-align: right;\">\n",
       "      <th></th>\n",
       "      <th>order_id</th>\n",
       "      <th>user_id</th>\n",
       "      <th>order_number</th>\n",
       "      <th>order_dow</th>\n",
       "      <th>order_hour_of_day</th>\n",
       "      <th>days_since_prior_order</th>\n",
       "    </tr>\n",
       "  </thead>\n",
       "  <tbody>\n",
       "    <tr>\n",
       "      <th>count</th>\n",
       "      <td>3.421083e+06</td>\n",
       "      <td>3.421083e+06</td>\n",
       "      <td>3.421083e+06</td>\n",
       "      <td>3.421083e+06</td>\n",
       "      <td>3.421083e+06</td>\n",
       "      <td>3.214874e+06</td>\n",
       "    </tr>\n",
       "    <tr>\n",
       "      <th>mean</th>\n",
       "      <td>1.710542e+06</td>\n",
       "      <td>1.029782e+05</td>\n",
       "      <td>1.715486e+01</td>\n",
       "      <td>2.776219e+00</td>\n",
       "      <td>1.345202e+01</td>\n",
       "      <td>1.111484e+01</td>\n",
       "    </tr>\n",
       "    <tr>\n",
       "      <th>std</th>\n",
       "      <td>9.875817e+05</td>\n",
       "      <td>5.953372e+04</td>\n",
       "      <td>1.773316e+01</td>\n",
       "      <td>2.046829e+00</td>\n",
       "      <td>4.226088e+00</td>\n",
       "      <td>9.206737e+00</td>\n",
       "    </tr>\n",
       "    <tr>\n",
       "      <th>min</th>\n",
       "      <td>1.000000e+00</td>\n",
       "      <td>1.000000e+00</td>\n",
       "      <td>1.000000e+00</td>\n",
       "      <td>0.000000e+00</td>\n",
       "      <td>0.000000e+00</td>\n",
       "      <td>0.000000e+00</td>\n",
       "    </tr>\n",
       "    <tr>\n",
       "      <th>25%</th>\n",
       "      <td>8.552715e+05</td>\n",
       "      <td>5.139400e+04</td>\n",
       "      <td>5.000000e+00</td>\n",
       "      <td>1.000000e+00</td>\n",
       "      <td>1.000000e+01</td>\n",
       "      <td>4.000000e+00</td>\n",
       "    </tr>\n",
       "    <tr>\n",
       "      <th>50%</th>\n",
       "      <td>1.710542e+06</td>\n",
       "      <td>1.026890e+05</td>\n",
       "      <td>1.100000e+01</td>\n",
       "      <td>3.000000e+00</td>\n",
       "      <td>1.300000e+01</td>\n",
       "      <td>7.000000e+00</td>\n",
       "    </tr>\n",
       "    <tr>\n",
       "      <th>75%</th>\n",
       "      <td>2.565812e+06</td>\n",
       "      <td>1.543850e+05</td>\n",
       "      <td>2.300000e+01</td>\n",
       "      <td>5.000000e+00</td>\n",
       "      <td>1.600000e+01</td>\n",
       "      <td>1.500000e+01</td>\n",
       "    </tr>\n",
       "    <tr>\n",
       "      <th>max</th>\n",
       "      <td>3.421083e+06</td>\n",
       "      <td>2.062090e+05</td>\n",
       "      <td>1.000000e+02</td>\n",
       "      <td>6.000000e+00</td>\n",
       "      <td>2.300000e+01</td>\n",
       "      <td>3.000000e+01</td>\n",
       "    </tr>\n",
       "  </tbody>\n",
       "</table>\n",
       "</div>"
      ],
      "text/plain": [
       "           order_id       user_id  order_number     order_dow  \\\n",
       "count  3.421083e+06  3.421083e+06  3.421083e+06  3.421083e+06   \n",
       "mean   1.710542e+06  1.029782e+05  1.715486e+01  2.776219e+00   \n",
       "std    9.875817e+05  5.953372e+04  1.773316e+01  2.046829e+00   \n",
       "min    1.000000e+00  1.000000e+00  1.000000e+00  0.000000e+00   \n",
       "25%    8.552715e+05  5.139400e+04  5.000000e+00  1.000000e+00   \n",
       "50%    1.710542e+06  1.026890e+05  1.100000e+01  3.000000e+00   \n",
       "75%    2.565812e+06  1.543850e+05  2.300000e+01  5.000000e+00   \n",
       "max    3.421083e+06  2.062090e+05  1.000000e+02  6.000000e+00   \n",
       "\n",
       "       order_hour_of_day  days_since_prior_order  \n",
       "count       3.421083e+06            3.214874e+06  \n",
       "mean        1.345202e+01            1.111484e+01  \n",
       "std         4.226088e+00            9.206737e+00  \n",
       "min         0.000000e+00            0.000000e+00  \n",
       "25%         1.000000e+01            4.000000e+00  \n",
       "50%         1.300000e+01            7.000000e+00  \n",
       "75%         1.600000e+01            1.500000e+01  \n",
       "max         2.300000e+01            3.000000e+01  "
      ]
     },
     "execution_count": 37,
     "metadata": {},
     "output_type": "execute_result"
    }
   ],
   "source": [
    "df_ords.describe()"
   ]
  },
  {
   "cell_type": "markdown",
   "id": "27a7d7ad-cb75-448a-bb07-7dea4a74db94",
   "metadata": {},
   "source": [
    "### Data Summary for df_ords\n",
    "\n",
    "- **order_id**: The `order_id` ranges from 1 to 3,421,083, which makes sense as it is a unique identifier for each order.\n",
    "- **user_id**: The `user_id` ranges from 1 to 206,209, indicating the number of unique users.\n",
    "- **order_number**: The `order_number` ranges from 1 to 100, which seems reasonable as it represents the sequence of orders for each user.\n",
    "- **order_dow**: The `order_dow` ranges from 0 to 6, representing the days of the week (0 = Sunday, 6 = Saturday).\n",
    "- **order_hour_of_day**: The `order_hour_of_day` ranges from 0 to 23, indicating the hour of the day when orders are placed.\n",
    "- **days_since_prior_order**: The `days_since_prior_order` ranges from 0 to 30, which is reasonable for days between orders."
   ]
  },
  {
   "cell_type": "markdown",
   "id": "68c8ec82-1a99-4485-a68f-114db16995b2",
   "metadata": {},
   "source": [
    "# Check for Mixed-Type data in df_ors"
   ]
  },
  {
   "cell_type": "code",
   "execution_count": 104,
   "id": "bacf9b8d-7342-4bc7-93ae-07bfb019dc53",
   "metadata": {},
   "outputs": [],
   "source": [
    "# Check for mixed-type data\n",
    "for column in df_ords.columns:\n",
    "    mixed_data = df_ords[column].apply(type).nunique() > 1\n",
    "    if mixed_data:\n",
    "        print(f\"Column {column} has mixed data types.\")"
   ]
  },
  {
   "cell_type": "markdown",
   "id": "e18f4146-8e69-4d2a-9475-962198b71931",
   "metadata": {},
   "source": [
    " # Check for Mixed-Type data in df_prods"
   ]
  },
  {
   "cell_type": "code",
   "execution_count": 105,
   "id": "f495b216-d58a-4580-a44b-cdde35a257c2",
   "metadata": {},
   "outputs": [],
   "source": [
    "# check for mixed-type data\n",
    "for column in df_prods.columns:\n",
    "    mixed_data = df_prods[column].apply(type).nunique() > 1\n",
    "    if mixed_data:\n",
    "        print(f\"Column {column} has mixed data types.\")"
   ]
  },
  {
   "cell_type": "code",
   "execution_count": 108,
   "id": "69b8dbf7-fc37-4f5b-a5a3-15dfb8056d9c",
   "metadata": {},
   "outputs": [
    {
     "name": "stdout",
     "output_type": "stream",
     "text": [
      "Mixed types in 'product_name': [<class 'str'>]\n"
     ]
    }
   ],
   "source": [
    "# Inspect mixed types in the 'product_name' column\n",
    "mixed_types = df_prods['product_name'].apply(type).unique()\n",
    "print(\"Mixed types in 'product_name':\", mixed_types)"
   ]
  },
  {
   "cell_type": "code",
   "execution_count": 46,
   "id": "992287a3-5a60-4a82-ac2e-89fb99a99164",
   "metadata": {},
   "outputs": [
    {
     "name": "stdout",
     "output_type": "stream",
     "text": [
      "       product_id product_name  aisle_id  department_id  prices\n",
      "33             34          NaN       121             14    12.2\n",
      "68             69          NaN        26              7    11.8\n",
      "115           116          NaN        93              3    10.8\n",
      "261           262          NaN       110             13    12.1\n",
      "525           525          NaN       109             11     1.2\n",
      "1511         1511          NaN        84             16    14.3\n",
      "1780         1780          NaN       126             11    12.3\n",
      "2240         2240          NaN        52              1    14.2\n",
      "2586         2586          NaN       104             13    12.4\n",
      "3159         3159          NaN       126             11    13.1\n",
      "3230         3230          NaN       120             16    14.4\n",
      "3736         3736          NaN        41              8    14.8\n",
      "4283         4283          NaN        77              7    14.4\n",
      "4790         4790          NaN        91             16    14.5\n",
      "38187       38183          NaN        39             12    20.9\n",
      "40444       40440          NaN       120             16    14.8\n"
     ]
    }
   ],
   "source": [
    "# Display rows with non-string values in 'product_name'\n",
    "non_string_values = df_prods[~df_prods['product_name'].apply(lambda x: isinstance(x, str))]\n",
    "print(non_string_values)"
   ]
  },
  {
   "cell_type": "code",
   "execution_count": 110,
   "id": "a53c589b-5094-4ed3-933a-9797f7a8def9",
   "metadata": {},
   "outputs": [],
   "source": [
    "# #Convert all entries in 'product_name' to string\n",
    "df_prods['product_name'] = df_prods['product_name'].astype(str)"
   ]
  },
  {
   "cell_type": "code",
   "execution_count": 112,
   "id": "2654d4af-2e58-41cc-bc5b-2359e53dab84",
   "metadata": {},
   "outputs": [
    {
     "name": "stdout",
     "output_type": "stream",
     "text": [
      "Types in 'product_name' after conversion: [<class 'str'>]\n"
     ]
    }
   ],
   "source": [
    "# #Verify conversion\n",
    "mixed_types_after_conversion = df_prods['product_name'].apply(type).unique()\n",
    "print(\"Types in 'product_name' after conversion:\", mixed_types_after_conversion)"
   ]
  },
  {
   "cell_type": "code",
   "execution_count": 114,
   "id": "5b0f90c6-887f-4a78-a84b-0376a4488df6",
   "metadata": {},
   "outputs": [],
   "source": [
    "# Re-check for mixed-type data in the entire dataframe\n",
    "for column in df_prods.columns:\n",
    "    mixed_data = df_prods[column].apply(type).nunique() > 1\n",
    "    if mixed_data:\n",
    "        print(f\"Column {column} still has mixed data types.\")"
   ]
  },
  {
   "cell_type": "code",
   "execution_count": 127,
   "id": "c8c6360c-ecda-49b0-a553-0ade1303079d",
   "metadata": {},
   "outputs": [
    {
     "name": "stderr",
     "output_type": "stream",
     "text": [
      "C:\\Users\\marci\\AppData\\Local\\Temp\\ipykernel_13728\\795825741.py:2: FutureWarning: A value is trying to be set on a copy of a DataFrame or Series through chained assignment using an inplace method.\n",
      "The behavior will change in pandas 3.0. This inplace method will never work because the intermediate object on which we are setting values always behaves as a copy.\n",
      "\n",
      "For example, when doing 'df[col].method(value, inplace=True)', try using 'df.method({col: value}, inplace=True)' or df[col] = df[col].method(value) instead, to perform the operation inplace on the original object.\n",
      "\n",
      "\n",
      "  df_prods['product_name'].fillna('Unknown', inplace=True)\n"
     ]
    }
   ],
   "source": [
    "# Fill NaN values in 'product_name' with 'Unknown'\n",
    "df_prods['product_name'].fillna('Unknown', inplace=True)"
   ]
  },
  {
   "cell_type": "markdown",
   "id": "ded7a38c-d744-426c-a0c2-7e547f83c703",
   "metadata": {},
   "source": [
    "# Check for Missing Values in df_ords"
   ]
  },
  {
   "cell_type": "code",
   "execution_count": 116,
   "id": "b3b675fb-ed57-4a67-bc43-7fecb5ee4cc7",
   "metadata": {},
   "outputs": [
    {
     "name": "stdout",
     "output_type": "stream",
     "text": [
      "order_id                  0\n",
      "user_id                   0\n",
      "order_number              0\n",
      "order_dow                 0\n",
      "order_hour_of_day         0\n",
      "days_since_prior_order    0\n",
      "dtype: int64\n"
     ]
    }
   ],
   "source": [
    "# Check for missing values\n",
    "missing_values = df_ords.isnull().sum()\n",
    "print(missing_values)"
   ]
  },
  {
   "cell_type": "markdown",
   "id": "77ae93f5-a8a8-4c4b-8e8e-4d50e124a2a4",
   "metadata": {},
   "source": [
    "# # Check for Missing Values in df_prods"
   ]
  },
  {
   "cell_type": "code",
   "execution_count": 118,
   "id": "bfe835ff-c196-49a1-8f4d-8c99fe4cd362",
   "metadata": {},
   "outputs": [
    {
     "name": "stdout",
     "output_type": "stream",
     "text": [
      "product_id       0\n",
      "product_name     0\n",
      "aisle_id         0\n",
      "department_id    0\n",
      "prices           0\n",
      "dtype: int64\n"
     ]
    }
   ],
   "source": [
    "missing_values = df_prods.isnull().sum()\n",
    "print(missing_values)"
   ]
  },
  {
   "cell_type": "markdown",
   "id": "958ed136-4d45-4646-8dde-991eb1316a7c",
   "metadata": {},
   "source": [
    "#  Handling Missing Values\n",
    "\n",
    "<!-- For days_since_prior_order in df_ords -->\n",
    "The days_since_prior_order column has 206,209 missing values.These missing values likely indicate the customer's first order, as there is no prior order to compare.Therefore, we can replace missing values with 0 to indicate no prior orders.\n",
    "\n",
    "<!-- For product_name in df_prods -->\n",
    "The product_name column is essential for identifying products. Since there are only 16 missing values, it might be appropriate to drop these rows if the missing data is minimal compared to the total dataset size. If product names are crucial for analysis, dropping these rows is often the best approach."
   ]
  },
  {
   "cell_type": "markdown",
   "id": "7961c9b3-4c1e-49ca-9f79-3a4655b084e9",
   "metadata": {},
   "source": [
    "# Handling Missing Values in df_ords"
   ]
  },
  {
   "cell_type": "code",
   "execution_count": 55,
   "id": "9f9d62e4-a331-4b33-8012-5f2540578045",
   "metadata": {},
   "outputs": [
    {
     "name": "stdout",
     "output_type": "stream",
     "text": [
      "0\n"
     ]
    }
   ],
   "source": [
    "# Replace missing values in 'days_since_prior_order' with 0\n",
    "df_ords['days_since_prior_order'] = df_ords['days_since_prior_order'].fillna(0)\n",
    "\n",
    "# Verify no missing values remain\n",
    "print(df_ords['days_since_prior_order'].isnull().sum())\n"
   ]
  },
  {
   "cell_type": "markdown",
   "id": "c88253a7-011a-413f-bc0c-27001224b312",
   "metadata": {},
   "source": [
    "#  Handling Missing Values in df_prods"
   ]
  },
  {
   "cell_type": "code",
   "execution_count": 121,
   "id": "3c836629-54e6-4d94-a3c9-9f10191f0625",
   "metadata": {},
   "outputs": [
    {
     "name": "stdout",
     "output_type": "stream",
     "text": [
      "0\n"
     ]
    }
   ],
   "source": [
    "# Drop rows with missing 'product_name'\n",
    "df_prods = df_prods.dropna(subset=['product_name'])\n",
    "\n",
    "# Verify no missing values remain\n",
    "print(df_prods['product_name'].isnull().sum())"
   ]
  },
  {
   "cell_type": "markdown",
   "id": "923f8e38-dac2-4c4a-b348-2de5a7458dfa",
   "metadata": {},
   "source": [
    "# Check for Duplicate Values in df_ords"
   ]
  },
  {
   "cell_type": "code",
   "execution_count": 59,
   "id": "94aa44eb-7bfb-4845-9635-fc85d937ce5b",
   "metadata": {},
   "outputs": [
    {
     "name": "stdout",
     "output_type": "stream",
     "text": [
      "Number of duplicate rows: 0\n"
     ]
    }
   ],
   "source": [
    "# Check for duplicate values\n",
    "duplicates = df_ords.duplicated().sum()\n",
    "print(f\"Number of duplicate rows: {duplicates}\")"
   ]
  },
  {
   "cell_type": "markdown",
   "id": "1d967681-5a9f-439e-bb74-ff47c11dfa43",
   "metadata": {},
   "source": [
    "# Check for Duplicate Values in df_prods"
   ]
  },
  {
   "cell_type": "code",
   "execution_count": 123,
   "id": "92c643c6-08ce-4cc1-bb1d-d40a3d3f1c93",
   "metadata": {},
   "outputs": [
    {
     "name": "stdout",
     "output_type": "stream",
     "text": [
      "Number of duplicate rows: 0\n"
     ]
    }
   ],
   "source": [
    "# Check for duplicate values\n",
    "duplicates = df_prods.duplicated().sum()\n",
    "print(f\"Number of duplicate rows: {duplicates}\")"
   ]
  },
  {
   "cell_type": "markdown",
   "id": "ac527557-04c7-42db-b6b5-3977402bcded",
   "metadata": {},
   "source": [
    "# identify dupliacte rows"
   ]
  },
  {
   "cell_type": "code",
   "execution_count": 125,
   "id": "a90872da-095b-4dff-837c-8dce622a8387",
   "metadata": {},
   "outputs": [
    {
     "data": {
      "text/html": [
       "<div>\n",
       "<style scoped>\n",
       "    .dataframe tbody tr th:only-of-type {\n",
       "        vertical-align: middle;\n",
       "    }\n",
       "\n",
       "    .dataframe tbody tr th {\n",
       "        vertical-align: top;\n",
       "    }\n",
       "\n",
       "    .dataframe thead th {\n",
       "        text-align: right;\n",
       "    }\n",
       "</style>\n",
       "<table border=\"1\" class=\"dataframe\">\n",
       "  <thead>\n",
       "    <tr style=\"text-align: right;\">\n",
       "      <th></th>\n",
       "      <th>product_id</th>\n",
       "      <th>product_name</th>\n",
       "      <th>aisle_id</th>\n",
       "      <th>department_id</th>\n",
       "      <th>prices</th>\n",
       "    </tr>\n",
       "  </thead>\n",
       "  <tbody>\n",
       "  </tbody>\n",
       "</table>\n",
       "</div>"
      ],
      "text/plain": [
       "Empty DataFrame\n",
       "Columns: [product_id, product_name, aisle_id, department_id, prices]\n",
       "Index: []"
      ]
     },
     "execution_count": 125,
     "metadata": {},
     "output_type": "execute_result"
    }
   ],
   "source": [
    "# Display duplicate rows\n",
    "df_prods[df_prods.duplicated()]"
   ]
  },
  {
   "cell_type": "markdown",
   "id": "b7fd8b28-6935-49aa-aa29-db532e1eae6f",
   "metadata": {},
   "source": [
    "# Handling Duplicate Values\n",
    "\n",
    "Upon checking the df_prods DataFrame for duplicate rows, we found 5 duplicates:\n",
    "\n",
    "\tproduct_id\tproduct_name\taisle_id\tdepartment_id\tprices\r\n",
    "462\t462\tFiber 4g Gummy Dietary Supplement\t70\t11\t4.8\r\n",
    "18459\t18458\tRanger IPA\t27\t5\t9.2\r\n",
    "26810\t26808\tBlack House Coffee Roasty Stout Beer\t27\t5\t13.4\r\n",
    "35309\t35306\tGluten Free Organic Peanut Butter & Chocolate ...\t121\t14\t6.8\r\n",
    "35495\t35491\tAdore Forever Body Wash\t127\t1\n",
    "\n",
    "The next step is to drop these duplicate rows to ensure our data is clean.1\t9.9"
   ]
  },
  {
   "cell_type": "code",
   "execution_count": 65,
   "id": "3ccffe40-5ce1-458a-bd46-84f3a87ceb25",
   "metadata": {},
   "outputs": [
    {
     "name": "stdout",
     "output_type": "stream",
     "text": [
      "Number of duplicate rows after removal: 0\n"
     ]
    }
   ],
   "source": [
    "# Drop duplicate rows and keep the first occurrence\n",
    "df_prods = df_prods.drop_duplicates()\n",
    "\n",
    "# Verify that duplicates have been removed\n",
    "duplicates_after = df_prods.duplicated().sum()\n",
    "print(f\"Number of duplicate rows after removal: {duplicates_after}\")"
   ]
  },
  {
   "cell_type": "code",
   "execution_count": 95,
   "id": "de1e9b1f-61d0-4323-ba6a-e35d5b9cf1e3",
   "metadata": {},
   "outputs": [
    {
     "name": "stdout",
     "output_type": "stream",
     "text": [
      "Missing values in combined DataFrame:\n",
      "product_id       0\n",
      "product_name     0\n",
      "aisle_id         0\n",
      "department_id    0\n",
      "prices           0\n",
      "dtype: int64\n"
     ]
    }
   ],
   "source": [
    "missing_df_prods = df_prods.isnull().sum()\n",
    "print(\"Missing values in combined DataFrame:\")\n",
    "print(missing_df_prods)"
   ]
  },
  {
   "cell_type": "code",
   "execution_count": 102,
   "id": "69ef59fe-b6c2-4d3b-ae77-fa094f0d6772",
   "metadata": {},
   "outputs": [
    {
     "data": {
      "text/plain": [
       "(49688, 5)"
      ]
     },
     "execution_count": 102,
     "metadata": {},
     "output_type": "execute_result"
    }
   ],
   "source": [
    " df_prods.shape"
   ]
  },
  {
   "cell_type": "code",
   "execution_count": 75,
   "id": "cc45878e-6021-4e58-9e50-78012cce523a",
   "metadata": {},
   "outputs": [
    {
     "name": "stdout",
     "output_type": "stream",
     "text": [
      "Missing values in combined DataFrame:\n",
      "order_id                  0\n",
      "user_id                   0\n",
      "order_number              0\n",
      "order_dow                 0\n",
      "order_hour_of_day         0\n",
      "days_since_prior_order    0\n",
      "dtype: int64\n"
     ]
    }
   ],
   "source": [
    "missing_df_ords = df_ords .isnull().sum()\n",
    "print(\"Missing values in combined DataFrame:\")\n",
    "print(missing_df_ords)"
   ]
  },
  {
   "cell_type": "code",
   "execution_count": 73,
   "id": "74db9529-d4c9-47dd-8fc1-59c507b9a9f4",
   "metadata": {},
   "outputs": [],
   "source": [
    "df_ords.drop('eval_set', axis=1, inplace=True)"
   ]
  },
  {
   "cell_type": "markdown",
   "id": "b0ed1cd8-2a9a-42f4-8163-e74356ad430b",
   "metadata": {},
   "source": [
    "# Exporting CSV Files"
   ]
  },
  {
   "cell_type": "code",
   "execution_count": 97,
   "id": "f9df00f3-3f4f-4f13-9112-0d91bf4fb28c",
   "metadata": {},
   "outputs": [
    {
     "name": "stdout",
     "output_type": "stream",
     "text": [
      "Cleaned data has been exported to:\n",
      "- C:\\Users\\marci\\15-07-2024Instacart Basket Analysis\\02 Data\\Prepared Data\\orders_wrangled.csv\n",
      "- C:\\Users\\marci\\15-07-2024Instacart Basket Analysis\\02 Data\\Prepared Data\\products_wrangled.csv\n"
     ]
    }
   ],
   "source": [
    "\n",
    "df_ords.to_csv(r\"C:\\Users\\marci\\15-07-2024Instacart Basket Analysis\\02 Data\\Prepared Data\\orders_wrangled.csv\")\n",
    "df_prods.to_csv(r\"C:\\Users\\marci\\15-07-2024Instacart Basket Analysis\\02 Data\\Prepared Data\\products_wrangled.csv\", index=False, encoding='utf-8')\n",
    "\n",
    "\n",
    "print(f\"Cleaned data has been exported to:\\n- {orders_wrangled_path}\\n- {products_wrangled_path}\")"
   ]
  },
  {
   "cell_type": "code",
   "execution_count": null,
   "id": "ce1128e0-e11a-41d4-b4b7-91f09bcfb323",
   "metadata": {},
   "outputs": [],
   "source": []
  }
 ],
 "metadata": {
  "kernelspec": {
   "display_name": "Python 3 (ipykernel)",
   "language": "python",
   "name": "python3"
  },
  "language_info": {
   "codemirror_mode": {
    "name": "ipython",
    "version": 3
   },
   "file_extension": ".py",
   "mimetype": "text/x-python",
   "name": "python",
   "nbconvert_exporter": "python",
   "pygments_lexer": "ipython3",
   "version": "3.12.4"
  }
 },
 "nbformat": 4,
 "nbformat_minor": 5
}
