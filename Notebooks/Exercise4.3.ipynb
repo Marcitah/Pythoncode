{
 "cells": [
  {
   "cell_type": "markdown",
   "id": "c93aad8c-7cdb-4858-b682-fea127251653",
   "metadata": {},
   "source": [
    "# Project Title: Data Analysis  Orders and Products"
   ]
  },
  {
   "cell_type": "markdown",
   "id": "7ae1e4da-cd07-4481-8669-ecf9ac7c9e00",
   "metadata": {},
   "source": [
    "# Section 1: Importing necessary libraries"
   ]
  },
  {
   "cell_type": "code",
   "execution_count": 2,
   "id": "32426211-dc2a-4f08-ae67-8be1ef4f06e0",
   "metadata": {},
   "outputs": [],
   "source": [
    "import pandas as pd  # pandas for data manipulation\n",
    "import numpy as np  # numpy for numerical operations\n",
    "import os  # os for interacting with the operating system"
   ]
  },
  {
   "cell_type": "markdown",
   "id": "f265f13c-244e-49c3-8547-db3f23736403",
   "metadata": {},
   "source": [
    "# Section 2: Define Project Folder Path"
   ]
  },
  {
   "cell_type": "code",
   "execution_count": 11,
   "id": "1c0c3654-8f7d-4ea3-9bb3-40f9e7fce8ac",
   "metadata": {
    "scrolled": true
   },
   "outputs": [],
   "source": [
    "project_folder_path = \"C:\\Users\\marci\\15-07-2024Instacart Basket Analysis\\02 Data\""
   ]
  },
  {
   "cell_type": "markdown",
   "id": "b6f22c48-f7f3-4565-bf53-53b80cb3ff8f",
   "metadata": {},
   "source": [
    "project_folder_path\n"
   ]
  },
  {
   "cell_type": "markdown",
   "id": "c8801fe2-ce3d-44fa-aabc-02d58768b2da",
   "metadata": {},
   "source": [
    "# Section 3: Import Orders Data"
   ]
  },
  {
   "cell_type": "code",
   "execution_count": 15,
   "id": "f05cb123-914d-46ee-a1bb-92ef1bac2084",
   "metadata": {},
   "outputs": [],
   "source": [
    "vars_list = ['order_id', 'user_id', 'order_number', 'order_dow', 'order_hour_of_day', 'days_since_prior_order']\n",
    "orders_path = os.path.join(project_folder_path, \"Original Data\", \"orders.csv\")\n",
    "df = pd.read_csv(orders_path, usecols=vars_list)"
   ]
  },
  {
   "cell_type": "code",
   "execution_count": 17,
   "id": "1b60933d-ae3f-4ea0-8d15-cd563df89dd5",
   "metadata": {},
   "outputs": [
    {
     "name": "stdout",
     "output_type": "stream",
     "text": [
      "First 5 rows of the orders dataframe:\n",
      "   order_id  user_id  order_number  order_dow  order_hour_of_day  \\\n",
      "0   2539329        1             1          2                  8   \n",
      "1   2398795        1             2          3                  7   \n",
      "2    473747        1             3          3                 12   \n",
      "3   2254736        1             4          4                  7   \n",
      "4    431534        1             5          4                 15   \n",
      "\n",
      "   days_since_prior_order  \n",
      "0                     NaN  \n",
      "1                    15.0  \n",
      "2                    21.0  \n",
      "3                    29.0  \n",
      "4                    28.0  \n"
     ]
    }
   ],
   "source": [
    "print(\"First 5 rows of the orders dataframe:\")\n",
    "print(df.head())"
   ]
  },
  {
   "cell_type": "markdown",
   "id": "e0620491-b2e5-4f6a-a888-95aba3fa37e3",
   "metadata": {},
   "source": [
    "# Section 4: Import Products Data"
   ]
  },
  {
   "cell_type": "code",
   "execution_count": 21,
   "id": "ef270773-7fd4-403b-9100-8fed18e58670",
   "metadata": {},
   "outputs": [],
   "source": [
    "products_path = os.path.join(project_folder_path, \"Original Data\", \"products.csv\")\n",
    "df_prods = pd.read_csv(products_path)"
   ]
  },
  {
   "cell_type": "markdown",
   "id": "7a36af5a-5eb1-49bd-a6bd-6f4c09404e08",
   "metadata": {},
   "source": [
    "# Print the first 20 rows and the last 35 rows of the df_prods dataframe"
   ]
  },
  {
   "cell_type": "code",
   "execution_count": 23,
   "id": "9d40106d-3451-409c-a3db-8092ac0bd04b",
   "metadata": {},
   "outputs": [
    {
     "name": "stdout",
     "output_type": "stream",
     "text": [
      "\n",
      "First 20 rows of the products dataframe:\n",
      "    product_id                                       product_name  aisle_id  \\\n",
      "0            1                         Chocolate Sandwich Cookies        61   \n",
      "1            2                                   All-Seasons Salt       104   \n",
      "2            3               Robust Golden Unsweetened Oolong Tea        94   \n",
      "3            4  Smart Ones Classic Favorites Mini Rigatoni Wit...        38   \n",
      "4            5                          Green Chile Anytime Sauce         5   \n",
      "5            6                                       Dry Nose Oil        11   \n",
      "6            7                     Pure Coconut Water With Orange        98   \n",
      "7            8                  Cut Russet Potatoes Steam N' Mash       116   \n",
      "8            9                  Light Strawberry Blueberry Yogurt       120   \n",
      "9           10     Sparkling Orange Juice & Prickly Pear Beverage       115   \n",
      "10          11                                  Peach Mango Juice        31   \n",
      "11          12                         Chocolate Fudge Layer Cake       119   \n",
      "12          13                                  Saline Nasal Mist        11   \n",
      "13          14                     Fresh Scent Dishwasher Cleaner        74   \n",
      "14          15                           Overnight Diapers Size 6        56   \n",
      "15          16                      Mint Chocolate Flavored Syrup       103   \n",
      "16          17                                  Rendered Duck Fat        35   \n",
      "17          18                Pizza for One Suprema  Frozen Pizza        79   \n",
      "18          19   Gluten Free Quinoa Three Cheese & Mushroom Blend        63   \n",
      "19          20     Pomegranate Cranberry & Aloe Vera Enrich Drink        98   \n",
      "\n",
      "    department_id  prices  \n",
      "0              19     5.8  \n",
      "1              13     9.3  \n",
      "2               7     4.5  \n",
      "3               1    10.5  \n",
      "4              13     4.3  \n",
      "5              11     2.6  \n",
      "6               7     4.4  \n",
      "7               1     1.1  \n",
      "8              16     7.0  \n",
      "9               7     8.4  \n",
      "10              7     2.8  \n",
      "11              1     9.4  \n",
      "12             11     1.1  \n",
      "13             17     6.5  \n",
      "14             18    11.2  \n",
      "15             19     5.2  \n",
      "16             12    17.1  \n",
      "17              1    10.6  \n",
      "18              9    12.0  \n",
      "19              7     6.0  \n"
     ]
    }
   ],
   "source": [
    "print(\"\\nFirst 20 rows of the products dataframe:\")\n",
    "print(df_prods.head(20))"
   ]
  },
  {
   "cell_type": "code",
   "execution_count": 25,
   "id": "f1d1cdb8-1b73-4f5c-9984-bd3d9fc11616",
   "metadata": {},
   "outputs": [
    {
     "name": "stdout",
     "output_type": "stream",
     "text": [
      "\n",
      "Last 35 rows of the products dataframe:\n",
      "       product_id                                       product_name  \\\n",
      "49658       49654                   Teriyaki Sauce, Sesame, Original   \n",
      "49659       49655                                        Apple Cider   \n",
      "49660       49656                         Masada Kosher Pocket Bread   \n",
      "49661       49657                                  Cabernet Tomatoes   \n",
      "49662       49658                         Brie with Herbs Foil Wedge   \n",
      "49663       49659                            Organic Creamed Coconut   \n",
      "49664       49660                        Professionals Sleek Shampoo   \n",
      "49665       49661                                              Porto   \n",
      "49666       49662                       Bacon Cheddar Pretzel Pieces   \n",
      "49667       49663  Ultra Protein Power Crunch Peanut Butter N' Ho...   \n",
      "49668       49664                     Lemon Cayenne Drinking Vinegar   \n",
      "49669       49665      Super Dark Coconut Ash & Banana Chocolate Bar   \n",
      "49670       49666                      Ginger Snaps Snacking Cookies   \n",
      "49671       49667           Enchilada with Spanish Rice & Beans Meal   \n",
      "49672       49668                     Apple Cinnamon Scented Candles   \n",
      "49673       49669                                   K Cup Dark Blend   \n",
      "49674       49670                                Beef Summer Sausage   \n",
      "49675       49671                               Milk Chocolate Drops   \n",
      "49676       49672                             Cafe Mocha K-Cup Packs   \n",
      "49677       49673              Stone Baked Multi Grain Artisan Rolls   \n",
      "49678       49674            Frozen Greek Yogurt Bars Chocolate Chip   \n",
      "49679       49675                Cinnamon Dolce Keurig Brewed K Cups   \n",
      "49680       49676                             Ultra Red Energy Drink   \n",
      "49681       49677                    Thick & Chunky Sloppy Joe Sauce   \n",
      "49682       49678                    Large Chicken & Cheese Taquitos   \n",
      "49683       49679                            Famous Chocolate Wafers   \n",
      "49684       49680                 All Natural Creamy Caesar Dressing   \n",
      "49685       49681            Spaghetti with Meatballs and Sauce Meal   \n",
      "49686       49682                                 California Limeade   \n",
      "49687       49683                                     Cucumber Kirby   \n",
      "49688       49684          Vodka, Triple Distilled, Twist of Vanilla   \n",
      "49689       49685                 En Croute Roast Hazelnut Cranberry   \n",
      "49690       49686                                   Artisan Baguette   \n",
      "49691       49687         Smartblend Healthy Metabolism Dry Cat Food   \n",
      "49692       49688                             Fresh Foaming Cleanser   \n",
      "\n",
      "       aisle_id  department_id  prices  \n",
      "49658         5             13     4.0  \n",
      "49659        98              7    10.7  \n",
      "49660       128              3     7.1  \n",
      "49661        83              4     8.3  \n",
      "49662         2             16     3.9  \n",
      "49663        17             13     3.1  \n",
      "49664        22             11     6.7  \n",
      "49665       134              5     8.2  \n",
      "49666       107             19     3.6  \n",
      "49667        57             14    10.2  \n",
      "49668       100             21    13.7  \n",
      "49669        45             19     6.9  \n",
      "49670        61             19     5.2  \n",
      "49671        38              1     6.6  \n",
      "49672       101             17     5.6  \n",
      "49673       100             21     4.7  \n",
      "49674       106             12    19.2  \n",
      "49675        45             19     3.0  \n",
      "49676        26              7     6.5  \n",
      "49677       129              1     5.6  \n",
      "49678        37              1    11.1  \n",
      "49679        26              7    14.0  \n",
      "49680        64              7    14.5  \n",
      "49681        59             15     8.9  \n",
      "49682       129              1     3.4  \n",
      "49683        61             19     6.0  \n",
      "49684        89             13     4.9  \n",
      "49685        38              1     6.9  \n",
      "49686        98              7     4.3  \n",
      "49687        83              4    13.2  \n",
      "49688       124              5     5.3  \n",
      "49689        42              1     3.1  \n",
      "49690       112              3     7.8  \n",
      "49691        41              8     4.7  \n",
      "49692        73             11    13.5  \n"
     ]
    }
   ],
   "source": [
    "print(\"\\nLast 35 rows of the products dataframe:\")\n",
    "print(df_prods.tail(35))"
   ]
  },
  {
   "cell_type": "markdown",
   "id": "effc3204-2ec4-4aa0-a3d1-e285aa83b28c",
   "metadata": {},
   "source": [
    "# Print the names of the columns in the df_prods dataframe"
   ]
  },
  {
   "cell_type": "code",
   "execution_count": 27,
   "id": "e593878a-0733-44cc-874f-ad00d600e256",
   "metadata": {},
   "outputs": [
    {
     "name": "stdout",
     "output_type": "stream",
     "text": [
      "\n",
      "Column names of the products dataframe:\n",
      "Index(['product_id', 'product_name', 'aisle_id', 'department_id', 'prices'], dtype='object')\n"
     ]
    }
   ],
   "source": [
    "print(\"\\nColumn names of the products dataframe:\")\n",
    "print(df_prods.columns)"
   ]
  },
  {
   "cell_type": "markdown",
   "id": "7d41d70d-1aaf-4f44-8c1f-f5bc34f26296",
   "metadata": {},
   "source": [
    "# Print the number of rows and columns in the df_prods dataframe"
   ]
  },
  {
   "cell_type": "code",
   "execution_count": 29,
   "id": "84a043f3-3f2f-43e5-a7a2-d045748b46fd",
   "metadata": {},
   "outputs": [
    {
     "name": "stdout",
     "output_type": "stream",
     "text": [
      "\n",
      "Number of rows and columns in the products dataframe:\n",
      "(49693, 5)\n"
     ]
    }
   ],
   "source": [
    "print(\"\\nNumber of rows and columns in the products dataframe:\")\n",
    "print(df_prods.shape)"
   ]
  },
  {
   "cell_type": "markdown",
   "id": "bf3635fa-03c0-40e7-a447-839c7f6212df",
   "metadata": {},
   "source": [
    "# Section 5: Answer Questions"
   ]
  },
  {
   "cell_type": "markdown",
   "id": "aa1a81f2-8f6d-49d6-a294-3d50695c58af",
   "metadata": {},
   "source": [
    "# Maximum value of the “aisle_id” column"
   ]
  },
  {
   "cell_type": "code",
   "execution_count": 31,
   "id": "bdf4130f-632a-4d80-aab3-fb5b732871f1",
   "metadata": {},
   "outputs": [
    {
     "name": "stdout",
     "output_type": "stream",
     "text": [
      "\n",
      "Maximum value of the aisle_id column:\n",
      "134\n"
     ]
    }
   ],
   "source": [
    "max_aisle_id = df_prods['aisle_id'].max()\n",
    "print(\"\\nMaximum value of the aisle_id column:\")\n",
    "print(max_aisle_id)"
   ]
  },
  {
   "cell_type": "markdown",
   "id": "98987c41-7505-47d4-9e97-036cbb284dce",
   "metadata": {},
   "source": [
    "# Data type of the “department_id” column"
   ]
  },
  {
   "cell_type": "code",
   "execution_count": 33,
   "id": "fc0abb3f-fbae-4ca8-96ed-0d4b179bf3b3",
   "metadata": {},
   "outputs": [
    {
     "name": "stdout",
     "output_type": "stream",
     "text": [
      "\n",
      "Data type of the department_id column:\n",
      "int64\n"
     ]
    }
   ],
   "source": [
    "department_id_dtype = df_prods['department_id'].dtype\n",
    "print(\"\\nData type of the department_id column:\")\n",
    "print(department_id_dtype)"
   ]
  },
  {
   "cell_type": "code",
   "execution_count": null,
   "id": "4abda69f-8849-4d33-9c6f-b050778ff44a",
   "metadata": {},
   "outputs": [],
   "source": []
  }
 ],
 "metadata": {
  "kernelspec": {
   "display_name": "Python 3 (ipykernel)",
   "language": "python",
   "name": "python3"
  },
  "language_info": {
   "codemirror_mode": {
    "name": "ipython",
    "version": 3
   },
   "file_extension": ".py",
   "mimetype": "text/x-python",
   "name": "python",
   "nbconvert_exporter": "python",
   "pygments_lexer": "ipython3",
   "version": "3.12.4"
  }
 },
 "nbformat": 4,
 "nbformat_minor": 5
}
