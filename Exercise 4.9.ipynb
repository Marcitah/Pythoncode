{
 "cells": [
  {
   "cell_type": "markdown",
   "id": "faec9690-704e-4809-ae4b-ac9cd32104aa",
   "metadata": {},
   "source": [
    "# Part 1"
   ]
  },
  {
   "cell_type": "code",
   "execution_count": 3,
   "id": "790a1fe6-eec3-4316-8734-6b948704936a",
   "metadata": {},
   "outputs": [],
   "source": [
    "#importing libraries \n",
    "import pandas as pd\n",
    "import numpy as np\n",
    "import os\n"
   ]
  },
  {
   "cell_type": "code",
   "execution_count": 5,
   "id": "ce28b257-ad32-4abd-8ffa-3e770307012e",
   "metadata": {},
   "outputs": [],
   "source": [
    "# Define the path to the new dataset \n",
    "project_folder_path = r\"C:\\Users\\marci\\15-07-2024Instacart Basket Analysis\\02 Data\""
   ]
  },
  {
   "cell_type": "code",
   "execution_count": 5,
   "id": "a7218c3a-69b7-4998-a75f-2c3b99a8c14f",
   "metadata": {},
   "outputs": [],
   "source": [
    "# Import customer.csv into a DataFrame Data Original\n",
    "df_customers = pd.read_csv(r'C:\\Users\\marci\\15-07-2024Instacart Basket Analysis\\02 Data\\Original Data\\customers.csv', index_col = False)"
   ]
  },
  {
   "cell_type": "code",
   "execution_count": 7,
   "id": "e73ce941-2171-43a1-a7f4-bee8b579d246",
   "metadata": {},
   "outputs": [],
   "source": [
    "# Import orders_products_combined.pkl into a DataFrame\n",
    "df_ords_prods_merge = pd.read_pickle(r'C:\\Users\\marci\\15-07-2024Instacart Basket Analysis\\02 Data\\Prepared Data\\ords_prods_merge.pkl')"
   ]
  },
  {
   "cell_type": "code",
   "execution_count": 7,
   "id": "e52e46be-fa0a-474c-ab17-883074dde3f5",
   "metadata": {},
   "outputs": [
    {
     "data": {
      "text/html": [
       "<div>\n",
       "<style scoped>\n",
       "    .dataframe tbody tr th:only-of-type {\n",
       "        vertical-align: middle;\n",
       "    }\n",
       "\n",
       "    .dataframe tbody tr th {\n",
       "        vertical-align: top;\n",
       "    }\n",
       "\n",
       "    .dataframe thead th {\n",
       "        text-align: right;\n",
       "    }\n",
       "</style>\n",
       "<table border=\"1\" class=\"dataframe\">\n",
       "  <thead>\n",
       "    <tr style=\"text-align: right;\">\n",
       "      <th></th>\n",
       "      <th>user_id</th>\n",
       "      <th>First Name</th>\n",
       "      <th>Surnam</th>\n",
       "      <th>Gender</th>\n",
       "      <th>STATE</th>\n",
       "      <th>Age</th>\n",
       "      <th>date_joined</th>\n",
       "      <th>n_dependants</th>\n",
       "      <th>fam_status</th>\n",
       "      <th>income</th>\n",
       "    </tr>\n",
       "  </thead>\n",
       "  <tbody>\n",
       "    <tr>\n",
       "      <th>0</th>\n",
       "      <td>26711</td>\n",
       "      <td>Deborah</td>\n",
       "      <td>Esquivel</td>\n",
       "      <td>Female</td>\n",
       "      <td>Missouri</td>\n",
       "      <td>48</td>\n",
       "      <td>1/1/2017</td>\n",
       "      <td>3</td>\n",
       "      <td>married</td>\n",
       "      <td>165665</td>\n",
       "    </tr>\n",
       "    <tr>\n",
       "      <th>1</th>\n",
       "      <td>33890</td>\n",
       "      <td>Patricia</td>\n",
       "      <td>Hart</td>\n",
       "      <td>Female</td>\n",
       "      <td>New Mexico</td>\n",
       "      <td>36</td>\n",
       "      <td>1/1/2017</td>\n",
       "      <td>0</td>\n",
       "      <td>single</td>\n",
       "      <td>59285</td>\n",
       "    </tr>\n",
       "    <tr>\n",
       "      <th>2</th>\n",
       "      <td>65803</td>\n",
       "      <td>Kenneth</td>\n",
       "      <td>Farley</td>\n",
       "      <td>Male</td>\n",
       "      <td>Idaho</td>\n",
       "      <td>35</td>\n",
       "      <td>1/1/2017</td>\n",
       "      <td>2</td>\n",
       "      <td>married</td>\n",
       "      <td>99568</td>\n",
       "    </tr>\n",
       "    <tr>\n",
       "      <th>3</th>\n",
       "      <td>125935</td>\n",
       "      <td>Michelle</td>\n",
       "      <td>Hicks</td>\n",
       "      <td>Female</td>\n",
       "      <td>Iowa</td>\n",
       "      <td>40</td>\n",
       "      <td>1/1/2017</td>\n",
       "      <td>0</td>\n",
       "      <td>single</td>\n",
       "      <td>42049</td>\n",
       "    </tr>\n",
       "    <tr>\n",
       "      <th>4</th>\n",
       "      <td>130797</td>\n",
       "      <td>Ann</td>\n",
       "      <td>Gilmore</td>\n",
       "      <td>Female</td>\n",
       "      <td>Maryland</td>\n",
       "      <td>26</td>\n",
       "      <td>1/1/2017</td>\n",
       "      <td>1</td>\n",
       "      <td>married</td>\n",
       "      <td>40374</td>\n",
       "    </tr>\n",
       "  </tbody>\n",
       "</table>\n",
       "</div>"
      ],
      "text/plain": [
       "   user_id First Name    Surnam  Gender       STATE  Age date_joined  \\\n",
       "0    26711    Deborah  Esquivel  Female    Missouri   48    1/1/2017   \n",
       "1    33890   Patricia      Hart  Female  New Mexico   36    1/1/2017   \n",
       "2    65803    Kenneth    Farley    Male       Idaho   35    1/1/2017   \n",
       "3   125935   Michelle     Hicks  Female        Iowa   40    1/1/2017   \n",
       "4   130797        Ann   Gilmore  Female    Maryland   26    1/1/2017   \n",
       "\n",
       "   n_dependants fam_status  income  \n",
       "0             3    married  165665  \n",
       "1             0     single   59285  \n",
       "2             2    married   99568  \n",
       "3             0     single   42049  \n",
       "4             1    married   40374  "
      ]
     },
     "execution_count": 7,
     "metadata": {},
     "output_type": "execute_result"
    }
   ],
   "source": [
    "df_customers.head()"
   ]
  },
  {
   "cell_type": "code",
   "execution_count": 9,
   "id": "c2e99414-46fd-40d0-a46c-7736b0850cda",
   "metadata": {},
   "outputs": [
    {
     "data": {
      "text/html": [
       "<div>\n",
       "<style scoped>\n",
       "    .dataframe tbody tr th:only-of-type {\n",
       "        vertical-align: middle;\n",
       "    }\n",
       "\n",
       "    .dataframe tbody tr th {\n",
       "        vertical-align: top;\n",
       "    }\n",
       "\n",
       "    .dataframe thead th {\n",
       "        text-align: right;\n",
       "    }\n",
       "</style>\n",
       "<table border=\"1\" class=\"dataframe\">\n",
       "  <thead>\n",
       "    <tr style=\"text-align: right;\">\n",
       "      <th></th>\n",
       "      <th>user_id</th>\n",
       "      <th>Age</th>\n",
       "      <th>n_dependants</th>\n",
       "      <th>income</th>\n",
       "    </tr>\n",
       "  </thead>\n",
       "  <tbody>\n",
       "    <tr>\n",
       "      <th>count</th>\n",
       "      <td>206209.000000</td>\n",
       "      <td>206209.000000</td>\n",
       "      <td>206209.000000</td>\n",
       "      <td>206209.000000</td>\n",
       "    </tr>\n",
       "    <tr>\n",
       "      <th>mean</th>\n",
       "      <td>103105.000000</td>\n",
       "      <td>49.501646</td>\n",
       "      <td>1.499823</td>\n",
       "      <td>94632.852548</td>\n",
       "    </tr>\n",
       "    <tr>\n",
       "      <th>std</th>\n",
       "      <td>59527.555167</td>\n",
       "      <td>18.480962</td>\n",
       "      <td>1.118433</td>\n",
       "      <td>42473.786988</td>\n",
       "    </tr>\n",
       "    <tr>\n",
       "      <th>min</th>\n",
       "      <td>1.000000</td>\n",
       "      <td>18.000000</td>\n",
       "      <td>0.000000</td>\n",
       "      <td>25903.000000</td>\n",
       "    </tr>\n",
       "    <tr>\n",
       "      <th>25%</th>\n",
       "      <td>51553.000000</td>\n",
       "      <td>33.000000</td>\n",
       "      <td>0.000000</td>\n",
       "      <td>59874.000000</td>\n",
       "    </tr>\n",
       "    <tr>\n",
       "      <th>50%</th>\n",
       "      <td>103105.000000</td>\n",
       "      <td>49.000000</td>\n",
       "      <td>1.000000</td>\n",
       "      <td>93547.000000</td>\n",
       "    </tr>\n",
       "    <tr>\n",
       "      <th>75%</th>\n",
       "      <td>154657.000000</td>\n",
       "      <td>66.000000</td>\n",
       "      <td>3.000000</td>\n",
       "      <td>124244.000000</td>\n",
       "    </tr>\n",
       "    <tr>\n",
       "      <th>max</th>\n",
       "      <td>206209.000000</td>\n",
       "      <td>81.000000</td>\n",
       "      <td>3.000000</td>\n",
       "      <td>593901.000000</td>\n",
       "    </tr>\n",
       "  </tbody>\n",
       "</table>\n",
       "</div>"
      ],
      "text/plain": [
       "             user_id            Age   n_dependants         income\n",
       "count  206209.000000  206209.000000  206209.000000  206209.000000\n",
       "mean   103105.000000      49.501646       1.499823   94632.852548\n",
       "std     59527.555167      18.480962       1.118433   42473.786988\n",
       "min         1.000000      18.000000       0.000000   25903.000000\n",
       "25%     51553.000000      33.000000       0.000000   59874.000000\n",
       "50%    103105.000000      49.000000       1.000000   93547.000000\n",
       "75%    154657.000000      66.000000       3.000000  124244.000000\n",
       "max    206209.000000      81.000000       3.000000  593901.000000"
      ]
     },
     "execution_count": 9,
     "metadata": {},
     "output_type": "execute_result"
    }
   ],
   "source": [
    "df_customers.describe()"
   ]
  },
  {
   "cell_type": "code",
   "execution_count": 8,
   "id": "b38f05cc-af78-4868-92a6-55b8d28d512b",
   "metadata": {},
   "outputs": [
    {
     "name": "stdout",
     "output_type": "stream",
     "text": [
      "   user_id first_name last_name  Gender       state  Age date_joined  \\\n",
      "0    26711    Deborah  Esquivel  Female    Missouri   48    1/1/2017   \n",
      "1    33890   Patricia      Hart  Female  New Mexico   36    1/1/2017   \n",
      "2    65803    Kenneth    Farley    Male       Idaho   35    1/1/2017   \n",
      "3   125935   Michelle     Hicks  Female        Iowa   40    1/1/2017   \n",
      "4   130797        Ann   Gilmore  Female    Maryland   26    1/1/2017   \n",
      "\n",
      "   num_dependents family_status  income  \n",
      "0               3       married  165665  \n",
      "1               0        single   59285  \n",
      "2               2       married   99568  \n",
      "3               0        single   42049  \n",
      "4               1       married   40374  \n"
     ]
    }
   ],
   "source": [
    "# Rename columns\n",
    "df_customers.rename(columns={\n",
    "    'First Name': 'first_name',\n",
    "    'Surnam': 'last_name',\n",
    "    'STATE': 'state',\n",
    "    'GENDER': 'gender',\n",
    "    'AGE': 'age',\n",
    "    'fam_status': 'family_status',\n",
    "    'n_dependants': 'num_dependents'\n",
    "}, inplace=True)\n",
    "\n",
    "# Verify the changes\n",
    "print(df_customers.head())"
   ]
  },
  {
   "cell_type": "code",
   "execution_count": 11,
   "id": "7f7bf652-ef7f-4aab-af91-01ab76ccae9f",
   "metadata": {},
   "outputs": [],
   "source": [
    "# Strip leading/trailing spaces and convert column names to lower case\n",
    "df_customers.columns = df_customers.columns.str.strip().str.lower()"
   ]
  },
  {
   "cell_type": "code",
   "execution_count": 23,
   "id": "e046d3bf-62d7-45e0-a19a-b0f36f2aa823",
   "metadata": {},
   "outputs": [
    {
     "name": "stdout",
     "output_type": "stream",
     "text": [
      "   user_id first_name last_name  gender       state  age date_joined  \\\n",
      "0    26711    Deborah  Esquivel  Female    Missouri   48    1/1/2017   \n",
      "1    33890   Patricia      Hart  Female  New Mexico   36    1/1/2017   \n",
      "2    65803    Kenneth    Farley    Male       Idaho   35    1/1/2017   \n",
      "3   125935   Michelle     Hicks  Female        Iowa   40    1/1/2017   \n",
      "4   130797        Ann   Gilmore  Female    Maryland   26    1/1/2017   \n",
      "\n",
      "   num_dependents family_status  income  \n",
      "0               3       married  165665  \n",
      "1               0        single   59285  \n",
      "2               2       married   99568  \n",
      "3               0        single   42049  \n",
      "4               1       married   40374  \n"
     ]
    }
   ],
   "source": [
    "print(df_customers.head())"
   ]
  },
  {
   "cell_type": "markdown",
   "id": "72da3c1b-500c-4c0a-aa5a-3b1af3164dfe",
   "metadata": {},
   "source": [
    "# I would leave all the columns, all of them provide relevant information for our analysis"
   ]
  },
  {
   "cell_type": "markdown",
   "id": "7745e811-104f-4844-be94-a3181f8ed021",
   "metadata": {},
   "source": [
    "# Check for mixed-type data:"
   ]
  },
  {
   "cell_type": "code",
   "execution_count": 13,
   "id": "0adb9957-818a-47ae-9ab6-7c1752195178",
   "metadata": {},
   "outputs": [
    {
     "name": "stdout",
     "output_type": "stream",
     "text": [
      "Column first_name has mixed data types.\n"
     ]
    }
   ],
   "source": [
    "# check for mixed-type data\n",
    "for column in df_customers.columns:\n",
    "    mixed_data = df_customers[column].apply(type).nunique() > 1\n",
    "    if mixed_data:\n",
    "        print(f\"Column {column} has mixed data types.\")"
   ]
  },
  {
   "cell_type": "markdown",
   "id": "5b3df0f9-cfa1-4316-bceb-af5d50ac2218",
   "metadata": {},
   "source": [
    "# Check for Missing Values:"
   ]
  },
  {
   "cell_type": "code",
   "execution_count": 15,
   "id": "87403421-89ab-4804-8d42-2d1abe11e453",
   "metadata": {},
   "outputs": [
    {
     "name": "stdout",
     "output_type": "stream",
     "text": [
      "user_id               0\n",
      "first_name        11259\n",
      "last_name             0\n",
      "gender                0\n",
      "state                 0\n",
      "age                   0\n",
      "date_joined           0\n",
      "num_dependents        0\n",
      "family_status         0\n",
      "income                0\n",
      "dtype: int64\n",
      "user_id           0.000000\n",
      "first_name        5.459994\n",
      "last_name         0.000000\n",
      "gender            0.000000\n",
      "state             0.000000\n",
      "age               0.000000\n",
      "date_joined       0.000000\n",
      "num_dependents    0.000000\n",
      "family_status     0.000000\n",
      "income            0.000000\n",
      "dtype: float64\n"
     ]
    }
   ],
   "source": [
    "# Check for missing values in each column\n",
    "missing_values = df_customers.isnull().sum()\n",
    "print(missing_values)\n",
    "\n",
    "# Check for percentage of missing values\n",
    "missing_percentage = (df_customers.isnull().sum() / len(df_customers)) * 100\n",
    "print(missing_percentage)"
   ]
  },
  {
   "cell_type": "markdown",
   "id": "5fb5fee6-354d-444c-9f3b-6fe5636967c5",
   "metadata": {},
   "source": [
    "# Handling Missing Values: The first_name column has 11259 (5.46%) missing values. They will be replaced by with 'Unknown'."
   ]
  },
  {
   "cell_type": "code",
   "execution_count": 19,
   "id": "66c6a72d-fe83-4aab-9012-318eceb0a0e9",
   "metadata": {},
   "outputs": [],
   "source": [
    "# Impute missing values in 'first_name' with 'Unknown'\n",
    "df_customers['first_name'] = df_customers['first_name'].fillna('Unknown')\n"
   ]
  },
  {
   "cell_type": "code",
   "execution_count": 21,
   "id": "80261745-393e-43b8-a874-bfd3cc7a5df9",
   "metadata": {},
   "outputs": [
    {
     "name": "stdout",
     "output_type": "stream",
     "text": [
      "user_id           0\n",
      "first_name        0\n",
      "last_name         0\n",
      "gender            0\n",
      "state             0\n",
      "age               0\n",
      "date_joined       0\n",
      "num_dependents    0\n",
      "family_status     0\n",
      "income            0\n",
      "dtype: int64\n"
     ]
    }
   ],
   "source": [
    "# Verify that there are no more missing values\n",
    "missing_values_after_impute = df_customers.isnull().sum()\n",
    "print(missing_values_after_impute)"
   ]
  },
  {
   "cell_type": "markdown",
   "id": "8a939e59-c0da-46f1-85b2-3f7b24332306",
   "metadata": {},
   "source": [
    "# Checking duplicate"
   ]
  },
  {
   "cell_type": "code",
   "execution_count": 23,
   "id": "9d1aed5d-1ddc-474c-b7af-1f415d5bd89b",
   "metadata": {},
   "outputs": [
    {
     "name": "stdout",
     "output_type": "stream",
     "text": [
      "Empty DataFrame\n",
      "Columns: [user_id, first_name, last_name, gender, state, age, date_joined, num_dependents, family_status, income]\n",
      "Index: []\n"
     ]
    }
   ],
   "source": [
    "# Display duplicate rows\n",
    "duplicate_rows = df_customers[df_customers.duplicated()]\n",
    "print(duplicate_rows)"
   ]
  },
  {
   "cell_type": "markdown",
   "id": "ccd792df-670f-43e8-af91-a9550a62d469",
   "metadata": {},
   "source": [
    "# Checking Data Type Consistency"
   ]
  },
  {
   "cell_type": "code",
   "execution_count": 25,
   "id": "7312460c-56ce-4695-a002-51f4dbfad346",
   "metadata": {},
   "outputs": [
    {
     "name": "stdout",
     "output_type": "stream",
     "text": [
      "user_id            int64\n",
      "first_name        object\n",
      "last_name         object\n",
      "gender            object\n",
      "state             object\n",
      "age                int64\n",
      "date_joined       object\n",
      "num_dependents     int64\n",
      "family_status     object\n",
      "income             int64\n",
      "dtype: object\n",
      "Unnamed: 0                   int64\n",
      "order_id                     int64\n",
      "user_id                      int64\n",
      "order_number                 int64\n",
      "order_dow                    int64\n",
      "order_hour_of_day            int64\n",
      "days_since_prior_order     float64\n",
      "product_id                   int64\n",
      "add_to_cart_order            int64\n",
      "reordered                    int64\n",
      "existing_merge            category\n",
      "product_name                object\n",
      "aisle_id                     int64\n",
      "department_id                int64\n",
      "prices                     float64\n",
      "merge_flag                category\n",
      "busiest_days                object\n",
      "busiest_period_of_day       object\n",
      "max_order                    int64\n",
      "loyalty_flag                object\n",
      "spending_flag               object\n",
      "order_frequency_flag        object\n",
      "dtype: object\n"
     ]
    }
   ],
   "source": [
    "# Check data types\n",
    "print(df_customers.dtypes)\n",
    "print(df_ords_prods_merge.dtypes)"
   ]
  },
  {
   "cell_type": "code",
   "execution_count": 27,
   "id": "9a221005-f4ad-4f72-bcd6-f256b274f0a1",
   "metadata": {},
   "outputs": [],
   "source": [
    "# Merge DataFrames\n",
    "df_combined = pd.merge(df_ords_prods_merge, df_customers, on='user_id', how='left')"
   ]
  },
  {
   "cell_type": "code",
   "execution_count": 28,
   "id": "c5b535f6-1fb5-4c67-aa69-8c9f600d1cf3",
   "metadata": {},
   "outputs": [
    {
     "name": "stdout",
     "output_type": "stream",
     "text": [
      "(32433030, 31)\n"
     ]
    }
   ],
   "source": [
    "\n",
    "print(df_combined.shape)"
   ]
  },
  {
   "cell_type": "code",
   "execution_count": 31,
   "id": "e8cb84eb-d14a-4d6b-8ffd-a7b0ab97c5cf",
   "metadata": {},
   "outputs": [
    {
     "name": "stdout",
     "output_type": "stream",
     "text": [
      "Number of duplicate rows in combined DataFrame: 0\n"
     ]
    }
   ],
   "source": [
    "# Check for duplicates in the combined DataFrame\n",
    "duplicates_combined = df_combined.duplicated().sum()\n",
    "print(f'Number of duplicate rows in combined DataFrame: {duplicates_combined}')"
   ]
  },
  {
   "cell_type": "code",
   "execution_count": 41,
   "id": "16510265-1498-4b01-b5fe-9e3de5d79b8c",
   "metadata": {},
   "outputs": [
    {
     "name": "stdout",
     "output_type": "stream",
     "text": [
      "Missing values in combined DataFrame:\n"
     ]
    }
   ],
   "source": [
    "# Check for missing values in the combined DataFrame\n",
    "missing_values_combined = df_combined.isnull().sum()\n",
    "print(\"Missing values in combined DataFrame:\")"
   ]
  },
  {
   "cell_type": "code",
   "execution_count": null,
   "id": "ffff6261-18d1-4138-8a19-3cbd057cd421",
   "metadata": {},
   "outputs": [],
   "source": [
    "df_ords_prods_merge = df_ords_prods_merge.drop(columns=['Unnamed: 0'])"
   ]
  },
  {
   "cell_type": "code",
   "execution_count": 1,
   "id": "148d306a-a6d6-4894-95a7-326137b27dfa",
   "metadata": {},
   "outputs": [
    {
     "ename": "NameError",
     "evalue": "name 'missing_values_combined' is not defined",
     "output_type": "error",
     "traceback": [
      "\u001b[1;31m---------------------------------------------------------------------------\u001b[0m",
      "\u001b[1;31mNameError\u001b[0m                                 Traceback (most recent call last)",
      "Cell \u001b[1;32mIn[1], line 1\u001b[0m\n\u001b[1;32m----> 1\u001b[0m \u001b[38;5;28mprint\u001b[39m(missing_values_combined)\n",
      "\u001b[1;31mNameError\u001b[0m: name 'missing_values_combined' is not defined"
     ]
    }
   ],
   "source": [
    "print(missing_values_combined)\n"
   ]
  },
  {
   "cell_type": "code",
   "execution_count": 45,
   "id": "c7b3288a-9b21-475a-be25-12babb431ab4",
   "metadata": {},
   "outputs": [],
   "source": [
    "df_combined.to_pickle(r\"C:\\Users\\marci\\15-07-2024Instacart Basket Analysis\\02 Data\\Prepared Data\\Orders_products_all.pkl\")"
   ]
  },
  {
   "cell_type": "code",
   "execution_count": null,
   "id": "ce8e4a0b-ad31-4613-b2c5-d5527f5b4385",
   "metadata": {},
   "outputs": [],
   "source": []
  }
 ],
 "metadata": {
  "kernelspec": {
   "display_name": "Python 3 (ipykernel)",
   "language": "python",
   "name": "python3"
  },
  "language_info": {
   "codemirror_mode": {
    "name": "ipython",
    "version": 3
   },
   "file_extension": ".py",
   "mimetype": "text/x-python",
   "name": "python",
   "nbconvert_exporter": "python",
   "pygments_lexer": "ipython3",
   "version": "3.12.4"
  }
 },
 "nbformat": 4,
 "nbformat_minor": 5
}
